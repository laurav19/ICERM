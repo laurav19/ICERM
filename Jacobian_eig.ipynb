{
 "metadata": {
  "name": "",
  "signature": "sha256:e6464424133f7a117e4994d88a469f9049cb9eec68193adb4fa660df55e2e5ea"
 },
 "nbformat": 3,
 "nbformat_minor": 0,
 "worksheets": [
  {
   "cells": [
    {
     "cell_type": "code",
     "collapsed": false,
     "input": [
      "%matplotlib inline\n",
      "import numpy as np\n",
      "import matplotlib.pyplot as plt\n",
      "\n",
      "import sympy as sy\n",
      "from scipy.integrate import odeint"
     ],
     "language": "python",
     "metadata": {},
     "outputs": [],
     "prompt_number": 2
    },
    {
     "cell_type": "code",
     "collapsed": false,
     "input": [
      "sy.init_printing(use_latex='mathjax')"
     ],
     "language": "python",
     "metadata": {},
     "outputs": [],
     "prompt_number": 3
    },
    {
     "cell_type": "code",
     "collapsed": false,
     "input": [
      "#Constants\n",
      "R = sy.Symbol('R')\n",
      "\n",
      "#Variables\n",
      "l1 = sy.Symbol('l_1')\n",
      "l2 = sy.Symbol('l_2')\n",
      "l3 = sy.Symbol('l_3')\n",
      "l4 = sy.Symbol('l_4')\n",
      "a1 = sy.Symbol('a_1')\n",
      "a2 = sy.Symbol('a_2')\n",
      "a3 = sy.Symbol('a_3')\n",
      "a4 = sy.Symbol('a_4')\n",
      "\n",
      "#Derivatives\n",
      "dl1 = sy.Function('\\dotl_1')\n",
      "dl2 = sy.Function('\\dotl_2')\n",
      "dl3 = sy.Function('\\dotl_3')\n",
      "dl4 = sy.Function('\\dotl_4')\n",
      "da1 = sy.Function('\\dota_1')\n",
      "da2 = sy.Function('\\dota_2')\n",
      "da3 = sy.Function('\\dota_3')\n",
      "da4 = sy.Function('\\dota_4')"
     ],
     "language": "python",
     "metadata": {},
     "outputs": [],
     "prompt_number": 4
    },
    {
     "cell_type": "code",
     "collapsed": false,
     "input": [
      "dl1 = 1 + sy.cos(a1)\n",
      "dl2 = 1 + sy.cos(a2)\n",
      "dl3 = 1 + sy.cos(a3)\n",
      "dl4 = 1 + sy.cos(a4)\n",
      "\n",
      "da1 = sy.sin(a2)/l2 - sy.sin(a1)/l1\n",
      "da2 = sy.sin(a3)/l3 - sy.sin(a2)/l2\n",
      "da3 = sy.sin(a4)/l4 - sy.sin(a3)/l3\n",
      "da4 = sy.sin(a1)/l1 - sy.sin(a4)/l4"
     ],
     "language": "python",
     "metadata": {},
     "outputs": [],
     "prompt_number": 5
    },
    {
     "cell_type": "code",
     "collapsed": false,
     "input": [
      "XA = sy.Matrix([dl1, da1, dl2, da2, dl3, da3, dl4, da4])\n",
      "YA = sy.Matrix([l1, a1, l2, a2, l3, a3, l4, a4])\n",
      "JA = XA.jacobian(YA)\n",
      "JA"
     ],
     "language": "python",
     "metadata": {},
     "outputs": [
      {
       "latex": [
        "$$\\left[\\begin{matrix}0 & - \\sin{\\left (a_{1} \\right )} & 0 & 0 & 0 & 0 & 0 & 0\\\\\\frac{1}{l_{1}^{2}} \\sin{\\left (a_{1} \\right )} & - \\frac{1}{l_{1}} \\cos{\\left (a_{1} \\right )} & - \\frac{1}{l_{2}^{2}} \\sin{\\left (a_{2} \\right )} & \\frac{1}{l_{2}} \\cos{\\left (a_{2} \\right )} & 0 & 0 & 0 & 0\\\\0 & 0 & 0 & - \\sin{\\left (a_{2} \\right )} & 0 & 0 & 0 & 0\\\\0 & 0 & \\frac{1}{l_{2}^{2}} \\sin{\\left (a_{2} \\right )} & - \\frac{1}{l_{2}} \\cos{\\left (a_{2} \\right )} & - \\frac{1}{l_{3}^{2}} \\sin{\\left (a_{3} \\right )} & \\frac{1}{l_{3}} \\cos{\\left (a_{3} \\right )} & 0 & 0\\\\0 & 0 & 0 & 0 & 0 & - \\sin{\\left (a_{3} \\right )} & 0 & 0\\\\0 & 0 & 0 & 0 & \\frac{1}{l_{3}^{2}} \\sin{\\left (a_{3} \\right )} & - \\frac{1}{l_{3}} \\cos{\\left (a_{3} \\right )} & - \\frac{1}{l_{4}^{2}} \\sin{\\left (a_{4} \\right )} & \\frac{1}{l_{4}} \\cos{\\left (a_{4} \\right )}\\\\0 & 0 & 0 & 0 & 0 & 0 & 0 & - \\sin{\\left (a_{4} \\right )}\\\\- \\frac{1}{l_{1}^{2}} \\sin{\\left (a_{1} \\right )} & \\frac{1}{l_{1}} \\cos{\\left (a_{1} \\right )} & 0 & 0 & 0 & 0 & \\frac{1}{l_{4}^{2}} \\sin{\\left (a_{4} \\right )} & - \\frac{1}{l_{4}} \\cos{\\left (a_{4} \\right )}\\end{matrix}\\right]$$"
       ],
       "metadata": {},
       "output_type": "pyout",
       "prompt_number": 9,
       "text": [
        "\u23a1    0      -sin(a\u2081)       0          0          0          0          0      \n",
        "\u23a2                                                                             \n",
        "\u23a2 sin(a\u2081)   -cos(a\u2081)   -sin(a\u2082)    cos(a\u2082)                                    \n",
        "\u23a2 \u2500\u2500\u2500\u2500\u2500\u2500\u2500   \u2500\u2500\u2500\u2500\u2500\u2500\u2500\u2500\u2500  \u2500\u2500\u2500\u2500\u2500\u2500\u2500\u2500\u2500   \u2500\u2500\u2500\u2500\u2500\u2500\u2500       0          0          0      \n",
        "\u23a2     2         l\u2081          2         l\u2082                                      \n",
        "\u23a2   l\u2081                    l\u2082                                                  \n",
        "\u23a2                                                                             \n",
        "\u23a2    0          0          0      -sin(a\u2082)       0          0          0      \n",
        "\u23a2                                                                             \n",
        "\u23a2                       sin(a\u2082)   -cos(a\u2082)   -sin(a\u2083)    cos(a\u2083)              \n",
        "\u23a2    0          0       \u2500\u2500\u2500\u2500\u2500\u2500\u2500   \u2500\u2500\u2500\u2500\u2500\u2500\u2500\u2500\u2500  \u2500\u2500\u2500\u2500\u2500\u2500\u2500\u2500\u2500   \u2500\u2500\u2500\u2500\u2500\u2500\u2500       0      \n",
        "\u23a2                           2         l\u2082          2         l\u2083                \n",
        "\u23a2                         l\u2082                    l\u2083                            \n",
        "\u23a2                                                                             \n",
        "\u23a2    0          0          0          0          0      -sin(a\u2083)       0      \n",
        "\u23a2                                                                             \n",
        "\u23a2                                             sin(a\u2083)   -cos(a\u2083)   -sin(a\u2084)   \n",
        "\u23a2    0          0          0          0       \u2500\u2500\u2500\u2500\u2500\u2500\u2500   \u2500\u2500\u2500\u2500\u2500\u2500\u2500\u2500\u2500  \u2500\u2500\u2500\u2500\u2500\u2500\u2500\u2500\u2500  \n",
        "\u23a2                                                 2         l\u2083          2     \n",
        "\u23a2                                               l\u2083                    l\u2084      \n",
        "\u23a2                                                                             \n",
        "\u23a2    0          0          0          0          0          0          0      \n",
        "\u23a2                                                                             \n",
        "\u23a2-sin(a\u2081)    cos(a\u2081)                                                sin(a\u2084)   \n",
        "\u23a2\u2500\u2500\u2500\u2500\u2500\u2500\u2500\u2500\u2500   \u2500\u2500\u2500\u2500\u2500\u2500\u2500       0          0          0          0       \u2500\u2500\u2500\u2500\u2500\u2500\u2500   \n",
        "\u23a2     2         l\u2081                                                      2     \n",
        "\u23a3   l\u2081                                                                l\u2084      \n",
        "\n",
        "    0    \u23a4\n",
        "         \u23a5\n",
        "         \u23a5\n",
        "    0    \u23a5\n",
        "         \u23a5\n",
        "         \u23a5\n",
        "         \u23a5\n",
        "    0    \u23a5\n",
        "         \u23a5\n",
        "         \u23a5\n",
        "    0    \u23a5\n",
        "         \u23a5\n",
        "         \u23a5\n",
        "         \u23a5\n",
        "    0    \u23a5\n",
        "         \u23a5\n",
        " cos(a\u2084) \u23a5\n",
        " \u2500\u2500\u2500\u2500\u2500\u2500\u2500 \u23a5\n",
        "    l\u2084   \u23a5\n",
        "         \u23a5\n",
        "         \u23a5\n",
        "-sin(a\u2084) \u23a5\n",
        "         \u23a5\n",
        "-cos(a\u2084) \u23a5\n",
        "\u2500\u2500\u2500\u2500\u2500\u2500\u2500\u2500\u2500\u23a5\n",
        "    l\u2084   \u23a5\n",
        "         \u23a6"
       ]
      }
     ],
     "prompt_number": 9
    },
    {
     "cell_type": "heading",
     "level": 3,
     "metadata": {},
     "source": [
      "Square"
     ]
    },
    {
     "cell_type": "code",
     "collapsed": false,
     "input": [
      "JA1 = JA.subs([(l1,R),(a1,sy.pi/2), (l2,R),(a2,sy.pi/2), (l3,R),(a3,sy.pi/2), (l4,R),(a4,sy.pi/2)])\n",
      "JA1"
     ],
     "language": "python",
     "metadata": {},
     "outputs": [
      {
       "latex": [
        "$$\\left[\\begin{matrix}0 & -1 & 0 & 0 & 0 & 0 & 0 & 0\\\\\\frac{1}{R^{2}} & 0 & - \\frac{1}{R^{2}} & 0 & 0 & 0 & 0 & 0\\\\0 & 0 & 0 & -1 & 0 & 0 & 0 & 0\\\\0 & 0 & \\frac{1}{R^{2}} & 0 & - \\frac{1}{R^{2}} & 0 & 0 & 0\\\\0 & 0 & 0 & 0 & 0 & -1 & 0 & 0\\\\0 & 0 & 0 & 0 & \\frac{1}{R^{2}} & 0 & - \\frac{1}{R^{2}} & 0\\\\0 & 0 & 0 & 0 & 0 & 0 & 0 & -1\\\\- \\frac{1}{R^{2}} & 0 & 0 & 0 & 0 & 0 & \\frac{1}{R^{2}} & 0\\end{matrix}\\right]$$"
       ],
       "metadata": {},
       "output_type": "pyout",
       "prompt_number": 10,
       "text": [
        "\u23a1 0   -1   0   0    0   0    0   0 \u23a4\n",
        "\u23a2                                  \u23a5\n",
        "\u23a21        -1                       \u23a5\n",
        "\u23a2\u2500\u2500   0   \u2500\u2500\u2500  0    0   0    0   0 \u23a5\n",
        "\u23a2 2         2                      \u23a5\n",
        "\u23a2R         R                       \u23a5\n",
        "\u23a2                                  \u23a5\n",
        "\u23a2 0   0    0   -1   0   0    0   0 \u23a5\n",
        "\u23a2                                  \u23a5\n",
        "\u23a2         1        -1              \u23a5\n",
        "\u23a2 0   0   \u2500\u2500   0   \u2500\u2500\u2500  0    0   0 \u23a5\n",
        "\u23a2          2         2             \u23a5\n",
        "\u23a2         R         R              \u23a5\n",
        "\u23a2                                  \u23a5\n",
        "\u23a2 0   0    0   0    0   -1   0   0 \u23a5\n",
        "\u23a2                                  \u23a5\n",
        "\u23a2                  1        -1     \u23a5\n",
        "\u23a2 0   0    0   0   \u2500\u2500   0   \u2500\u2500\u2500  0 \u23a5\n",
        "\u23a2                   2         2    \u23a5\n",
        "\u23a2                  R         R     \u23a5\n",
        "\u23a2                                  \u23a5\n",
        "\u23a2 0   0    0   0    0   0    0   -1\u23a5\n",
        "\u23a2                                  \u23a5\n",
        "\u23a2-1                         1      \u23a5\n",
        "\u23a2\u2500\u2500\u2500  0    0   0    0   0   \u2500\u2500   0 \u23a5\n",
        "\u23a2  2                         2     \u23a5\n",
        "\u23a3 R                         R      \u23a6"
       ]
      }
     ],
     "prompt_number": 10
    },
    {
     "cell_type": "code",
     "collapsed": false,
     "input": [
      "JA1.eigenvals()"
     ],
     "language": "python",
     "metadata": {},
     "outputs": [
      {
       "latex": [
        "$$\\begin{Bmatrix}0 : 2, & - \\frac{1}{R} \\sqrt{-1 - i} : 1, & \\frac{1}{R} \\sqrt{-1 - i} : 1, & - \\frac{1}{R} \\sqrt{-1 + i} : 1, & \\frac{1}{R} \\sqrt{-1 + i} : 1, & - \\frac{\\sqrt{2} i}{R} : 1, & \\frac{\\sqrt{2} i}{R} : 1\\end{Bmatrix}$$"
       ],
       "metadata": {},
       "output_type": "pyout",
       "prompt_number": 11,
       "text": [
        "\u23a7         ________        ________        ________        ________        ___ \n",
        "\u23aa      -\u2572\u2571 -1 - \u2148       \u2572\u2571 -1 - \u2148      -\u2572\u2571 -1 + \u2148       \u2572\u2571 -1 + \u2148      -\u2572\u2571 2 \u22c5\n",
        "\u23a80: 2, \u2500\u2500\u2500\u2500\u2500\u2500\u2500\u2500\u2500\u2500\u2500\u2500: 1, \u2500\u2500\u2500\u2500\u2500\u2500\u2500\u2500\u2500\u2500: 1, \u2500\u2500\u2500\u2500\u2500\u2500\u2500\u2500\u2500\u2500\u2500\u2500: 1, \u2500\u2500\u2500\u2500\u2500\u2500\u2500\u2500\u2500\u2500: 1, \u2500\u2500\u2500\u2500\u2500\u2500\u2500\n",
        "\u23aa           R               R               R               R              R  \n",
        "\u23a9                                                                             \n",
        "\n",
        "         ___     \u23ab\n",
        "\u2148      \u2572\u2571 2 \u22c5\u2148   \u23aa\n",
        "\u2500\u2500: 1, \u2500\u2500\u2500\u2500\u2500\u2500\u2500: 1\u23ac\n",
        "          R      \u23aa\n",
        "                 \u23ad"
       ]
      }
     ],
     "prompt_number": 11
    },
    {
     "cell_type": "code",
     "collapsed": false,
     "input": [
      "JA1.eigenvects()"
     ],
     "language": "python",
     "metadata": {},
     "outputs": [
      {
       "latex": [
        "$$\\begin{bmatrix}\\begin{pmatrix}0, & 2, & \\begin{bmatrix}\\left[\\begin{matrix}1\\\\0\\\\1\\\\0\\\\1\\\\0\\\\1\\\\0\\end{matrix}\\right]\\end{bmatrix}\\end{pmatrix}, & \\begin{pmatrix}- \\frac{1}{R} \\sqrt{-1 - i}, & 1, & \\begin{bmatrix}\\left[\\begin{matrix}- \\frac{i R}{\\sqrt{-1 - i}}\\\\- i\\\\- \\frac{R}{\\sqrt{-1 - i}}\\\\-1\\\\\\frac{i R}{\\sqrt{-1 - i}}\\\\i\\\\\\frac{R}{\\sqrt{-1 - i}}\\\\1\\end{matrix}\\right]\\end{bmatrix}\\end{pmatrix}, & \\begin{pmatrix}\\frac{1}{R} \\sqrt{-1 - i}, & 1, & \\begin{bmatrix}\\left[\\begin{matrix}\\frac{i R}{\\sqrt{-1 - i}}\\\\- i\\\\\\frac{R}{\\sqrt{-1 - i}}\\\\-1\\\\- \\frac{i R}{\\sqrt{-1 - i}}\\\\i\\\\- \\frac{R}{\\sqrt{-1 - i}}\\\\1\\end{matrix}\\right]\\end{bmatrix}\\end{pmatrix}, & \\begin{pmatrix}- \\frac{1}{R} \\sqrt{-1 + i}, & 1, & \\begin{bmatrix}\\left[\\begin{matrix}\\frac{i R}{\\sqrt{-1 + i}}\\\\i\\\\- \\frac{R}{\\sqrt{-1 + i}}\\\\-1\\\\- \\frac{i R}{\\sqrt{-1 + i}}\\\\- i\\\\\\frac{R}{\\sqrt{-1 + i}}\\\\1\\end{matrix}\\right]\\end{bmatrix}\\end{pmatrix}, & \\begin{pmatrix}\\frac{1}{R} \\sqrt{-1 + i}, & 1, & \\begin{bmatrix}\\left[\\begin{matrix}- \\frac{i R}{\\sqrt{-1 + i}}\\\\i\\\\\\frac{R}{\\sqrt{-1 + i}}\\\\-1\\\\\\frac{i R}{\\sqrt{-1 + i}}\\\\- i\\\\- \\frac{R}{\\sqrt{-1 + i}}\\\\1\\end{matrix}\\right]\\end{bmatrix}\\end{pmatrix}, & \\begin{pmatrix}- \\frac{\\sqrt{2} i}{R}, & 1, & \\begin{bmatrix}\\left[\\begin{matrix}\\frac{i R}{2} \\sqrt{2}\\\\-1\\\\- \\frac{i R}{2} \\sqrt{2}\\\\1\\\\\\frac{i R}{2} \\sqrt{2}\\\\-1\\\\- \\frac{i R}{2} \\sqrt{2}\\\\1\\end{matrix}\\right]\\end{bmatrix}\\end{pmatrix}, & \\begin{pmatrix}\\frac{\\sqrt{2} i}{R}, & 1, & \\begin{bmatrix}\\left[\\begin{matrix}- \\frac{i R}{2} \\sqrt{2}\\\\-1\\\\\\frac{i R}{2} \\sqrt{2}\\\\1\\\\- \\frac{i R}{2} \\sqrt{2}\\\\-1\\\\\\frac{i R}{2} \\sqrt{2}\\\\1\\end{matrix}\\right]\\end{bmatrix}\\end{pmatrix}\\end{bmatrix}$$"
       ],
       "metadata": {},
       "output_type": "pyout",
       "prompt_number": 12,
       "text": [
        "\u23a1               \u239b   ________                    \u239e  \u239b  ________                \n",
        "\u23a2               \u239c-\u2572\u2571 -1 - \u2148       \u23a1\u23a1  -\u2148\u22c5R    \u23a4\u23a4\u239f  \u239c\u2572\u2571 -1 - \u2148      \u23a1\u23a1   \u2148\u22c5R   \n",
        "\u23a2\u239b0, 2, \u23a1\u23a11\u23a4\u23a4\u239e, \u239c\u2500\u2500\u2500\u2500\u2500\u2500\u2500\u2500\u2500\u2500\u2500\u2500, 1, \u23a2\u23a2\u2500\u2500\u2500\u2500\u2500\u2500\u2500\u2500\u2500\u2500\u23a5\u23a5\u239f, \u239c\u2500\u2500\u2500\u2500\u2500\u2500\u2500\u2500\u2500\u2500, 1, \u23a2\u23a2\u2500\u2500\u2500\u2500\u2500\u2500\u2500\u2500\u2500\n",
        "\u23a2\u239c      \u23a2\u23a2 \u23a5\u23a5\u239f  \u239c     R           \u23a2\u23a2  ________\u23a5\u23a5\u239f  \u239c    R          \u23a2\u23a2  _______\n",
        "\u23a2\u239c      \u23a2\u23a20\u23a5\u23a5\u239f  \u239c                 \u23a2\u23a2\u2572\u2571 -1 - \u2148 \u23a5\u23a5\u239f  \u239c               \u23a2\u23a2\u2572\u2571 -1 - \u2148\n",
        "\u23a2\u239c      \u23a2\u23a2 \u23a5\u23a5\u239f  \u239c                 \u23a2\u23a2          \u23a5\u23a5\u239f  \u239c               \u23a2\u23a2         \n",
        "\u23a2\u239c      \u23a2\u23a21\u23a5\u23a5\u239f  \u239c                 \u23a2\u23a2    -\u2148    \u23a5\u23a5\u239f  \u239c               \u23a2\u23a2    -\u2148   \n",
        "\u23a2\u239c      \u23a2\u23a2 \u23a5\u23a5\u239f  \u239c                 \u23a2\u23a2          \u23a5\u23a5\u239f  \u239c               \u23a2\u23a2         \n",
        "\u23a2\u239c      \u23a2\u23a20\u23a5\u23a5\u239f  \u239c                 \u23a2\u23a2   -R     \u23a5\u23a5\u239f  \u239c               \u23a2\u23a2    R    \n",
        "\u23a2\u239c      \u23a2\u23a2 \u23a5\u23a5\u239f  \u239c                 \u23a2\u23a2\u2500\u2500\u2500\u2500\u2500\u2500\u2500\u2500\u2500\u2500\u23a5\u23a5\u239f  \u239c               \u23a2\u23a2\u2500\u2500\u2500\u2500\u2500\u2500\u2500\u2500\u2500\n",
        "\u23a2\u239c      \u23a2\u23a21\u23a5\u23a5\u239f  \u239c                 \u23a2\u23a2  ________\u23a5\u23a5\u239f  \u239c               \u23a2\u23a2  _______\n",
        "\u23a2\u239c      \u23a2\u23a2 \u23a5\u23a5\u239f  \u239c                 \u23a2\u23a2\u2572\u2571 -1 - \u2148 \u23a5\u23a5\u239f  \u239c               \u23a2\u23a2\u2572\u2571 -1 - \u2148\n",
        "\u23a2\u239c      \u23a2\u23a20\u23a5\u23a5\u239f  \u239c                 \u23a2\u23a2          \u23a5\u23a5\u239f  \u239c               \u23a2\u23a2         \n",
        "\u23a2\u239c      \u23a2\u23a2 \u23a5\u23a5\u239f  \u239c                 \u23a2\u23a2    -1    \u23a5\u23a5\u239f  \u239c               \u23a2\u23a2    -1   \n",
        "\u23a2\u239c      \u23a2\u23a21\u23a5\u23a5\u239f  \u239c                 \u23a2\u23a2          \u23a5\u23a5\u239f  \u239c               \u23a2\u23a2         \n",
        "\u23a2\u239c      \u23a2\u23a2 \u23a5\u23a5\u239f  \u239c                 \u23a2\u23a2   \u2148\u22c5R    \u23a5\u23a5\u239f  \u239c               \u23a2\u23a2  -\u2148\u22c5R   \n",
        "\u23a2\u239d      \u23a3\u23a30\u23a6\u23a6\u23a0  \u239c                 \u23a2\u23a2\u2500\u2500\u2500\u2500\u2500\u2500\u2500\u2500\u2500\u2500\u23a5\u23a5\u239f  \u239c               \u23a2\u23a2\u2500\u2500\u2500\u2500\u2500\u2500\u2500\u2500\u2500\n",
        "\u23a2               \u239c                 \u23a2\u23a2  ________\u23a5\u23a5\u239f  \u239c               \u23a2\u23a2  _______\n",
        "\u23a2               \u239c                 \u23a2\u23a2\u2572\u2571 -1 - \u2148 \u23a5\u23a5\u239f  \u239c               \u23a2\u23a2\u2572\u2571 -1 - \u2148\n",
        "\u23a2               \u239c                 \u23a2\u23a2          \u23a5\u23a5\u239f  \u239c               \u23a2\u23a2         \n",
        "\u23a2               \u239c                 \u23a2\u23a2    \u2148     \u23a5\u23a5\u239f  \u239c               \u23a2\u23a2    \u2148    \n",
        "\u23a2               \u239c                 \u23a2\u23a2          \u23a5\u23a5\u239f  \u239c               \u23a2\u23a2         \n",
        "\u23a2               \u239c                 \u23a2\u23a2    R     \u23a5\u23a5\u239f  \u239c               \u23a2\u23a2   -R    \n",
        "\u23a2               \u239c                 \u23a2\u23a2\u2500\u2500\u2500\u2500\u2500\u2500\u2500\u2500\u2500\u2500\u23a5\u23a5\u239f  \u239c               \u23a2\u23a2\u2500\u2500\u2500\u2500\u2500\u2500\u2500\u2500\u2500\n",
        "\u23a2               \u239c                 \u23a2\u23a2  ________\u23a5\u23a5\u239f  \u239c               \u23a2\u23a2  _______\n",
        "\u23a2               \u239c                 \u23a2\u23a2\u2572\u2571 -1 - \u2148 \u23a5\u23a5\u239f  \u239c               \u23a2\u23a2\u2572\u2571 -1 - \u2148\n",
        "\u23a2               \u239c                 \u23a2\u23a2          \u23a5\u23a5\u239f  \u239c               \u23a2\u23a2         \n",
        "\u23a3               \u239d                 \u23a3\u23a3    1     \u23a6\u23a6\u23a0  \u239d               \u23a3\u23a3    1    \n",
        "\n",
        "   \u239e  \u239b   ________                    \u239e  \u239b  ________                   \u239e  \u239b   \n",
        " \u23a4\u23a4\u239f  \u239c-\u2572\u2571 -1 + \u2148       \u23a1\u23a1   \u2148\u22c5R    \u23a4\u23a4\u239f  \u239c\u2572\u2571 -1 + \u2148      \u23a1\u23a1  -\u2148\u22c5R    \u23a4\u23a4\u239f  \u239c-\u2572\u2571\n",
        "\u2500\u23a5\u23a5\u239f, \u239c\u2500\u2500\u2500\u2500\u2500\u2500\u2500\u2500\u2500\u2500\u2500\u2500, 1, \u23a2\u23a2\u2500\u2500\u2500\u2500\u2500\u2500\u2500\u2500\u2500\u2500\u23a5\u23a5\u239f, \u239c\u2500\u2500\u2500\u2500\u2500\u2500\u2500\u2500\u2500\u2500, 1, \u23a2\u23a2\u2500\u2500\u2500\u2500\u2500\u2500\u2500\u2500\u2500\u2500\u23a5\u23a5\u239f, \u239c\u2500\u2500\u2500\n",
        "_\u23a5\u23a5\u239f  \u239c     R           \u23a2\u23a2  ________\u23a5\u23a5\u239f  \u239c    R          \u23a2\u23a2  ________\u23a5\u23a5\u239f  \u239c   \n",
        " \u23a5\u23a5\u239f  \u239c                 \u23a2\u23a2\u2572\u2571 -1 + \u2148 \u23a5\u23a5\u239f  \u239c               \u23a2\u23a2\u2572\u2571 -1 + \u2148 \u23a5\u23a5\u239f  \u239c   \n",
        " \u23a5\u23a5\u239f  \u239c                 \u23a2\u23a2          \u23a5\u23a5\u239f  \u239c               \u23a2\u23a2          \u23a5\u23a5\u239f  \u239c   \n",
        " \u23a5\u23a5\u239f  \u239c                 \u23a2\u23a2    \u2148     \u23a5\u23a5\u239f  \u239c               \u23a2\u23a2    \u2148     \u23a5\u23a5\u239f  \u239c   \n",
        " \u23a5\u23a5\u239f  \u239c                 \u23a2\u23a2          \u23a5\u23a5\u239f  \u239c               \u23a2\u23a2          \u23a5\u23a5\u239f  \u239c   \n",
        " \u23a5\u23a5\u239f  \u239c                 \u23a2\u23a2   -R     \u23a5\u23a5\u239f  \u239c               \u23a2\u23a2    R     \u23a5\u23a5\u239f  \u239c   \n",
        "\u2500\u23a5\u23a5\u239f  \u239c                 \u23a2\u23a2\u2500\u2500\u2500\u2500\u2500\u2500\u2500\u2500\u2500\u2500\u23a5\u23a5\u239f  \u239c               \u23a2\u23a2\u2500\u2500\u2500\u2500\u2500\u2500\u2500\u2500\u2500\u2500\u23a5\u23a5\u239f  \u239c   \n",
        "_\u23a5\u23a5\u239f  \u239c                 \u23a2\u23a2  ________\u23a5\u23a5\u239f  \u239c               \u23a2\u23a2  ________\u23a5\u23a5\u239f  \u239c   \n",
        " \u23a5\u23a5\u239f  \u239c                 \u23a2\u23a2\u2572\u2571 -1 + \u2148 \u23a5\u23a5\u239f  \u239c               \u23a2\u23a2\u2572\u2571 -1 + \u2148 \u23a5\u23a5\u239f  \u239c   \n",
        " \u23a5\u23a5\u239f  \u239c                 \u23a2\u23a2          \u23a5\u23a5\u239f  \u239c               \u23a2\u23a2          \u23a5\u23a5\u239f  \u239c   \n",
        " \u23a5\u23a5\u239f  \u239c                 \u23a2\u23a2    -1    \u23a5\u23a5\u239f  \u239c               \u23a2\u23a2    -1    \u23a5\u23a5\u239f  \u239c   \n",
        " \u23a5\u23a5\u239f  \u239c                 \u23a2\u23a2          \u23a5\u23a5\u239f  \u239c               \u23a2\u23a2          \u23a5\u23a5\u239f  \u239c   \n",
        " \u23a5\u23a5\u239f  \u239c                 \u23a2\u23a2  -\u2148\u22c5R    \u23a5\u23a5\u239f  \u239c               \u23a2\u23a2   \u2148\u22c5R    \u23a5\u23a5\u239f  \u239c   \n",
        "\u2500\u23a5\u23a5\u239f  \u239c                 \u23a2\u23a2\u2500\u2500\u2500\u2500\u2500\u2500\u2500\u2500\u2500\u2500\u23a5\u23a5\u239f  \u239c               \u23a2\u23a2\u2500\u2500\u2500\u2500\u2500\u2500\u2500\u2500\u2500\u2500\u23a5\u23a5\u239f  \u239c   \n",
        "_\u23a5\u23a5\u239f  \u239c                 \u23a2\u23a2  ________\u23a5\u23a5\u239f  \u239c               \u23a2\u23a2  ________\u23a5\u23a5\u239f  \u239c   \n",
        " \u23a5\u23a5\u239f  \u239c                 \u23a2\u23a2\u2572\u2571 -1 + \u2148 \u23a5\u23a5\u239f  \u239c               \u23a2\u23a2\u2572\u2571 -1 + \u2148 \u23a5\u23a5\u239f  \u239c   \n",
        " \u23a5\u23a5\u239f  \u239c                 \u23a2\u23a2          \u23a5\u23a5\u239f  \u239c               \u23a2\u23a2          \u23a5\u23a5\u239f  \u239c   \n",
        " \u23a5\u23a5\u239f  \u239c                 \u23a2\u23a2    -\u2148    \u23a5\u23a5\u239f  \u239c               \u23a2\u23a2    -\u2148    \u23a5\u23a5\u239f  \u239c   \n",
        " \u23a5\u23a5\u239f  \u239c                 \u23a2\u23a2          \u23a5\u23a5\u239f  \u239c               \u23a2\u23a2          \u23a5\u23a5\u239f  \u239c   \n",
        " \u23a5\u23a5\u239f  \u239c                 \u23a2\u23a2    R     \u23a5\u23a5\u239f  \u239c               \u23a2\u23a2   -R     \u23a5\u23a5\u239f  \u239c   \n",
        "\u2500\u23a5\u23a5\u239f  \u239c                 \u23a2\u23a2\u2500\u2500\u2500\u2500\u2500\u2500\u2500\u2500\u2500\u2500\u23a5\u23a5\u239f  \u239c               \u23a2\u23a2\u2500\u2500\u2500\u2500\u2500\u2500\u2500\u2500\u2500\u2500\u23a5\u23a5\u239f  \u239c   \n",
        "_\u23a5\u23a5\u239f  \u239c                 \u23a2\u23a2  ________\u23a5\u23a5\u239f  \u239c               \u23a2\u23a2  ________\u23a5\u23a5\u239f  \u239c   \n",
        " \u23a5\u23a5\u239f  \u239c                 \u23a2\u23a2\u2572\u2571 -1 + \u2148 \u23a5\u23a5\u239f  \u239c               \u23a2\u23a2\u2572\u2571 -1 + \u2148 \u23a5\u23a5\u239f  \u239c   \n",
        " \u23a5\u23a5\u239f  \u239c                 \u23a2\u23a2          \u23a5\u23a5\u239f  \u239c               \u23a2\u23a2          \u23a5\u23a5\u239f  \u239d   \n",
        " \u23a6\u23a6\u23a0  \u239d                 \u23a3\u23a3    1     \u23a6\u23a6\u23a0  \u239d               \u23a3\u23a3    1     \u23a6\u23a6\u23a0      \n",
        "\n",
        "___        \u23a1\u23a1   ___     \u23a4\u23a4\u239e  \u239b  ___       \u23a1\u23a1   ___     \u23a4\u23a4\u239e\u23a4\n",
        " 2 \u22c5\u2148      \u23a2\u23a2 \u2572\u2571 2 \u22c5\u2148\u22c5R \u23a5\u23a5\u239f  \u239c\u2572\u2571 2 \u22c5\u2148     \u23a2\u23a2-\u2572\u2571 2 \u22c5\u2148\u22c5R \u23a5\u23a5\u239f\u23a5\n",
        "\u2500\u2500\u2500\u2500\u2500\u2500, 1, \u23a2\u23a2 \u2500\u2500\u2500\u2500\u2500\u2500\u2500\u2500\u2500 \u23a5\u23a5\u239f, \u239c\u2500\u2500\u2500\u2500\u2500\u2500\u2500, 1, \u23a2\u23a2\u2500\u2500\u2500\u2500\u2500\u2500\u2500\u2500\u2500\u2500\u2500\u23a5\u23a5\u239f\u23a5\n",
        " R         \u23a2\u23a2     2     \u23a5\u23a5\u239f  \u239c   R        \u23a2\u23a2     2     \u23a5\u23a5\u239f\u23a5\n",
        "           \u23a2\u23a2           \u23a5\u23a5\u239f  \u239c            \u23a2\u23a2           \u23a5\u23a5\u239f\u23a5\n",
        "           \u23a2\u23a2    -1     \u23a5\u23a5\u239f  \u239c            \u23a2\u23a2    -1     \u23a5\u23a5\u239f\u23a5\n",
        "           \u23a2\u23a2           \u23a5\u23a5\u239f  \u239c            \u23a2\u23a2           \u23a5\u23a5\u239f\u23a5\n",
        "           \u23a2\u23a2   ___     \u23a5\u23a5\u239f  \u239c            \u23a2\u23a2   ___     \u23a5\u23a5\u239f\u23a5\n",
        "           \u23a2\u23a2-\u2572\u2571 2 \u22c5\u2148\u22c5R \u23a5\u23a5\u239f  \u239c            \u23a2\u23a2 \u2572\u2571 2 \u22c5\u2148\u22c5R \u23a5\u23a5\u239f\u23a5\n",
        "           \u23a2\u23a2\u2500\u2500\u2500\u2500\u2500\u2500\u2500\u2500\u2500\u2500\u2500\u23a5\u23a5\u239f  \u239c            \u23a2\u23a2 \u2500\u2500\u2500\u2500\u2500\u2500\u2500\u2500\u2500 \u23a5\u23a5\u239f\u23a5\n",
        "           \u23a2\u23a2     2     \u23a5\u23a5\u239f  \u239c            \u23a2\u23a2     2     \u23a5\u23a5\u239f\u23a5\n",
        "           \u23a2\u23a2           \u23a5\u23a5\u239f  \u239c            \u23a2\u23a2           \u23a5\u23a5\u239f\u23a5\n",
        "           \u23a2\u23a2     1     \u23a5\u23a5\u239f  \u239c            \u23a2\u23a2     1     \u23a5\u23a5\u239f\u23a5\n",
        "           \u23a2\u23a2           \u23a5\u23a5\u239f  \u239c            \u23a2\u23a2           \u23a5\u23a5\u239f\u23a5\n",
        "           \u23a2\u23a2   ___     \u23a5\u23a5\u239f  \u239c            \u23a2\u23a2   ___     \u23a5\u23a5\u239f\u23a5\n",
        "           \u23a2\u23a2 \u2572\u2571 2 \u22c5\u2148\u22c5R \u23a5\u23a5\u239f  \u239c            \u23a2\u23a2-\u2572\u2571 2 \u22c5\u2148\u22c5R \u23a5\u23a5\u239f\u23a5\n",
        "           \u23a2\u23a2 \u2500\u2500\u2500\u2500\u2500\u2500\u2500\u2500\u2500 \u23a5\u23a5\u239f  \u239c            \u23a2\u23a2\u2500\u2500\u2500\u2500\u2500\u2500\u2500\u2500\u2500\u2500\u2500\u23a5\u23a5\u239f\u23a5\n",
        "           \u23a2\u23a2     2     \u23a5\u23a5\u239f  \u239c            \u23a2\u23a2     2     \u23a5\u23a5\u239f\u23a5\n",
        "           \u23a2\u23a2           \u23a5\u23a5\u239f  \u239c            \u23a2\u23a2           \u23a5\u23a5\u239f\u23a5\n",
        "           \u23a2\u23a2    -1     \u23a5\u23a5\u239f  \u239c            \u23a2\u23a2    -1     \u23a5\u23a5\u239f\u23a5\n",
        "           \u23a2\u23a2           \u23a5\u23a5\u239f  \u239c            \u23a2\u23a2           \u23a5\u23a5\u239f\u23a5\n",
        "           \u23a2\u23a2   ___     \u23a5\u23a5\u239f  \u239c            \u23a2\u23a2   ___     \u23a5\u23a5\u239f\u23a5\n",
        "           \u23a2\u23a2-\u2572\u2571 2 \u22c5\u2148\u22c5R \u23a5\u23a5\u239f  \u239c            \u23a2\u23a2 \u2572\u2571 2 \u22c5\u2148\u22c5R \u23a5\u23a5\u239f\u23a5\n",
        "           \u23a2\u23a2\u2500\u2500\u2500\u2500\u2500\u2500\u2500\u2500\u2500\u2500\u2500\u23a5\u23a5\u239f  \u239c            \u23a2\u23a2 \u2500\u2500\u2500\u2500\u2500\u2500\u2500\u2500\u2500 \u23a5\u23a5\u239f\u23a5\n",
        "           \u23a2\u23a2     2     \u23a5\u23a5\u239f  \u239c            \u23a2\u23a2     2     \u23a5\u23a5\u239f\u23a5\n",
        "           \u23a2\u23a2           \u23a5\u23a5\u239f  \u239c            \u23a2\u23a2           \u23a5\u23a5\u239f\u23a5\n",
        "           \u23a3\u23a3     1     \u23a6\u23a6\u23a0  \u239d            \u23a3\u23a3     1     \u23a6\u23a6\u23a0\u23a5\n",
        "                                                          \u23a6"
       ]
      }
     ],
     "prompt_number": 12
    },
    {
     "cell_type": "heading",
     "level": 3,
     "metadata": {},
     "source": [
      "Line configuration"
     ]
    },
    {
     "cell_type": "code",
     "collapsed": false,
     "input": [
      "JA2 = JA.subs([(l1,R),(a1,0), (l2,R),(a2,0), (l3,R),(a3,sy.pi*2), (l4,R),(a4,0)])\n",
      "JA2"
     ],
     "language": "python",
     "metadata": {},
     "outputs": [
      {
       "latex": [
        "$$\\left[\\begin{matrix}0 & 0 & 0 & 0 & 0 & 0 & 0 & 0\\\\0 & - \\frac{1}{R} & 0 & \\frac{1}{R} & 0 & 0 & 0 & 0\\\\0 & 0 & 0 & 0 & 0 & 0 & 0 & 0\\\\0 & 0 & 0 & - \\frac{1}{R} & 0 & \\frac{1}{R} & 0 & 0\\\\0 & 0 & 0 & 0 & 0 & 0 & 0 & 0\\\\0 & 0 & 0 & 0 & 0 & - \\frac{1}{R} & 0 & \\frac{1}{R}\\\\0 & 0 & 0 & 0 & 0 & 0 & 0 & 0\\\\0 & \\frac{1}{R} & 0 & 0 & 0 & 0 & 0 & - \\frac{1}{R}\\end{matrix}\\right]$$"
       ],
       "metadata": {},
       "output_type": "pyout",
       "prompt_number": 84,
       "text": [
        "\u23a10   0   0   0   0   0   0   0 \u23a4\n",
        "\u23a2                              \u23a5\n",
        "\u23a2   -1       1                 \u23a5\n",
        "\u23a20  \u2500\u2500\u2500  0   \u2500   0   0   0   0 \u23a5\n",
        "\u23a2    R       R                 \u23a5\n",
        "\u23a2                              \u23a5\n",
        "\u23a20   0   0   0   0   0   0   0 \u23a5\n",
        "\u23a2                              \u23a5\n",
        "\u23a2           -1       1         \u23a5\n",
        "\u23a20   0   0  \u2500\u2500\u2500  0   \u2500   0   0 \u23a5\n",
        "\u23a2            R       R         \u23a5\n",
        "\u23a2                              \u23a5\n",
        "\u23a20   0   0   0   0   0   0   0 \u23a5\n",
        "\u23a2                              \u23a5\n",
        "\u23a2                   -1       1 \u23a5\n",
        "\u23a20   0   0   0   0  \u2500\u2500\u2500  0   \u2500 \u23a5\n",
        "\u23a2                    R       R \u23a5\n",
        "\u23a2                              \u23a5\n",
        "\u23a20   0   0   0   0   0   0   0 \u23a5\n",
        "\u23a2                              \u23a5\n",
        "\u23a2    1                      -1 \u23a5\n",
        "\u23a20   \u2500   0   0   0   0   0  \u2500\u2500\u2500\u23a5\n",
        "\u23a3    R                       R \u23a6"
       ]
      }
     ],
     "prompt_number": 84
    },
    {
     "cell_type": "code",
     "collapsed": false,
     "input": [
      "JA2.eigenvals()"
     ],
     "language": "python",
     "metadata": {},
     "outputs": [
      {
       "latex": [
        "$$\\begin{Bmatrix}0 : 5, & - \\frac{2}{R} : 1, & \\frac{1}{R} \\left(-1 - i\\right) : 1, & \\frac{1}{R} \\left(-1 + i\\right) : 1\\end{Bmatrix}$$"
       ],
       "metadata": {},
       "output_type": "pyout",
       "prompt_number": 86,
       "text": [
        "\u23a7      -2      -1 - \u2148     -1 + \u2148   \u23ab\n",
        "\u23a80: 5, \u2500\u2500\u2500: 1, \u2500\u2500\u2500\u2500\u2500\u2500: 1, \u2500\u2500\u2500\u2500\u2500\u2500: 1\u23ac\n",
        "\u23a9       R        R          R      \u23ad"
       ]
      }
     ],
     "prompt_number": 86
    },
    {
     "cell_type": "markdown",
     "metadata": {},
     "source": [
      "Negative real part, so it's stable"
     ]
    },
    {
     "cell_type": "code",
     "collapsed": false,
     "input": [
      "eig = JA1.eigenvals()"
     ],
     "language": "python",
     "metadata": {},
     "outputs": [],
     "prompt_number": 87
    },
    {
     "cell_type": "code",
     "collapsed": false,
     "input": [
      "eig"
     ],
     "language": "python",
     "metadata": {},
     "outputs": [
      {
       "latex": [
        "$$\\begin{Bmatrix}0 : 2, & - \\frac{1}{R} \\sqrt{-1 - i} : 1, & \\frac{1}{R} \\sqrt{-1 - i} : 1, & - \\frac{1}{R} \\sqrt{-1 + i} : 1, & \\frac{1}{R} \\sqrt{-1 + i} : 1, & - \\frac{\\sqrt{2} i}{R} : 1, & \\frac{\\sqrt{2} i}{R} : 1\\end{Bmatrix}$$"
       ],
       "metadata": {},
       "output_type": "pyout",
       "prompt_number": 88,
       "text": [
        "\u23a7         ________        ________        ________        ________        ___ \n",
        "\u23aa      -\u2572\u2571 -1 - \u2148       \u2572\u2571 -1 - \u2148      -\u2572\u2571 -1 + \u2148       \u2572\u2571 -1 + \u2148      -\u2572\u2571 2 \u22c5\n",
        "\u23a80: 2, \u2500\u2500\u2500\u2500\u2500\u2500\u2500\u2500\u2500\u2500\u2500\u2500: 1, \u2500\u2500\u2500\u2500\u2500\u2500\u2500\u2500\u2500\u2500: 1, \u2500\u2500\u2500\u2500\u2500\u2500\u2500\u2500\u2500\u2500\u2500\u2500: 1, \u2500\u2500\u2500\u2500\u2500\u2500\u2500\u2500\u2500\u2500: 1, \u2500\u2500\u2500\u2500\u2500\u2500\u2500\n",
        "\u23aa           R               R               R               R              R  \n",
        "\u23a9                                                                             \n",
        "\n",
        "         ___     \u23ab\n",
        "\u2148      \u2572\u2571 2 \u22c5\u2148   \u23aa\n",
        "\u2500\u2500: 1, \u2500\u2500\u2500\u2500\u2500\u2500\u2500: 1\u23ac\n",
        "          R      \u23aa\n",
        "                 \u23ad"
       ]
      }
     ],
     "prompt_number": 88
    },
    {
     "cell_type": "code",
     "collapsed": false,
     "input": [
      "type(eig)"
     ],
     "language": "python",
     "metadata": {},
     "outputs": [
      {
       "metadata": {},
       "output_type": "pyout",
       "prompt_number": 89,
       "text": [
        "dict"
       ]
      }
     ],
     "prompt_number": 89
    },
    {
     "cell_type": "code",
     "collapsed": false,
     "input": [
      "len(eig)"
     ],
     "language": "python",
     "metadata": {},
     "outputs": [
      {
       "latex": [
        "$$7$$"
       ],
       "metadata": {},
       "output_type": "pyout",
       "prompt_number": 92,
       "text": [
        "7"
       ]
      }
     ],
     "prompt_number": 92
    },
    {
     "cell_type": "code",
     "collapsed": false,
     "input": [
      "a = eig.items()"
     ],
     "language": "python",
     "metadata": {},
     "outputs": [],
     "prompt_number": 94
    },
    {
     "cell_type": "code",
     "collapsed": false,
     "input": [
      "b = a[0][0]"
     ],
     "language": "python",
     "metadata": {},
     "outputs": [],
     "prompt_number": 103
    },
    {
     "cell_type": "code",
     "collapsed": false,
     "input": [
      "b"
     ],
     "language": "python",
     "metadata": {},
     "outputs": [
      {
       "latex": [
        "$$\\frac{1}{R} \\sqrt{-1 + i}$$"
       ],
       "metadata": {},
       "output_type": "pyout",
       "prompt_number": 108,
       "text": [
        "  ________\n",
        "\u2572\u2571 -1 + \u2148 \n",
        "\u2500\u2500\u2500\u2500\u2500\u2500\u2500\u2500\u2500\u2500\n",
        "    R     "
       ]
      }
     ],
     "prompt_number": 108
    },
    {
     "cell_type": "code",
     "collapsed": false,
     "input": [
      "eig2 = JA1.eigenvects()"
     ],
     "language": "python",
     "metadata": {},
     "outputs": [],
     "prompt_number": 110
    },
    {
     "cell_type": "code",
     "collapsed": false,
     "input": [
      "eig2[6][2][0]"
     ],
     "language": "python",
     "metadata": {},
     "outputs": [
      {
       "latex": [
        "$$\\left[\\begin{matrix}\\frac{i R}{2} \\sqrt{2}\\\\-1\\\\- \\frac{i R}{2} \\sqrt{2}\\\\1\\\\\\frac{i R}{2} \\sqrt{2}\\\\-1\\\\- \\frac{i R}{2} \\sqrt{2}\\\\1\\end{matrix}\\right]$$"
       ],
       "metadata": {},
       "output_type": "pyout",
       "prompt_number": 126,
       "text": [
        "\u23a1   ___     \u23a4\n",
        "\u23a2 \u2572\u2571 2 \u22c5\u2148\u22c5R \u23a5\n",
        "\u23a2 \u2500\u2500\u2500\u2500\u2500\u2500\u2500\u2500\u2500 \u23a5\n",
        "\u23a2     2     \u23a5\n",
        "\u23a2           \u23a5\n",
        "\u23a2    -1     \u23a5\n",
        "\u23a2           \u23a5\n",
        "\u23a2   ___     \u23a5\n",
        "\u23a2-\u2572\u2571 2 \u22c5\u2148\u22c5R \u23a5\n",
        "\u23a2\u2500\u2500\u2500\u2500\u2500\u2500\u2500\u2500\u2500\u2500\u2500\u23a5\n",
        "\u23a2     2     \u23a5\n",
        "\u23a2           \u23a5\n",
        "\u23a2     1     \u23a5\n",
        "\u23a2           \u23a5\n",
        "\u23a2   ___     \u23a5\n",
        "\u23a2 \u2572\u2571 2 \u22c5\u2148\u22c5R \u23a5\n",
        "\u23a2 \u2500\u2500\u2500\u2500\u2500\u2500\u2500\u2500\u2500 \u23a5\n",
        "\u23a2     2     \u23a5\n",
        "\u23a2           \u23a5\n",
        "\u23a2    -1     \u23a5\n",
        "\u23a2           \u23a5\n",
        "\u23a2   ___     \u23a5\n",
        "\u23a2-\u2572\u2571 2 \u22c5\u2148\u22c5R \u23a5\n",
        "\u23a2\u2500\u2500\u2500\u2500\u2500\u2500\u2500\u2500\u2500\u2500\u2500\u23a5\n",
        "\u23a2     2     \u23a5\n",
        "\u23a2           \u23a5\n",
        "\u23a3     1     \u23a6"
       ]
      }
     ],
     "prompt_number": 126
    },
    {
     "cell_type": "heading",
     "level": 2,
     "metadata": {},
     "source": [
      "New equations"
     ]
    },
    {
     "cell_type": "code",
     "collapsed": false,
     "input": [
      "#Variables\n",
      "x3 = sy.Symbol('x_3')\n",
      "y3 = sy.Symbol('y_3')\n",
      "x4 = sy.Symbol('x_4')\n",
      "y4 = sy.Symbol('y_4')\n",
      "\n",
      "#Derivatives\n",
      "dx3 = sy.Function('\\dotx_3')\n",
      "dy3 = sy.Function('\\dotx_3')\n",
      "dx4 = sy.Function('\\doty_4')\n",
      "dy4 = sy.Function('\\doty_4')"
     ],
     "language": "python",
     "metadata": {},
     "outputs": [],
     "prompt_number": 4
    },
    {
     "cell_type": "code",
     "collapsed": false,
     "input": [
      "dx3 = (x3-x4)/sy.sqrt((x3-x4)**2+(y3-y4)**2) - (x3 - x3**2 + y3**2)/sy.sqrt((1-x3)**2+(-y3)**2) - x3 + 1\n",
      "dy3 = (y3-y4)/sy.sqrt((x3-x4)**2+(y3-y4)**2) + (-y3 + 2*x3*y3)/sy.sqrt((1-x3)**2+(-y3)**2) - y3\n",
      "\n",
      "\n",
      "dx4 = x4/sy.sqrt(x4**2+y4**2) - (x4 - x3*x4 + y3*y4)/sy.sqrt((1-x3)**2+(-y3)**2) - x4 + 1\n",
      "dy4 = y4/sy.sqrt(x4**2+y4**2) - (y4 - y4*x3 - x4*y3)/sy.sqrt((1-x3)**2+(-y3)**2) - y4"
     ],
     "language": "python",
     "metadata": {},
     "outputs": [],
     "prompt_number": 5
    },
    {
     "cell_type": "code",
     "collapsed": false,
     "input": [
      "dx3"
     ],
     "language": "python",
     "metadata": {},
     "outputs": [
      {
       "latex": [
        "$$- x_{3} + \\frac{x_{3} - x_{4}}{\\sqrt{\\left(x_{3} - x_{4}\\right)^{2} + \\left(y_{3} - y_{4}\\right)^{2}}} + 1 - \\frac{- x_{3}^{2} + x_{3} + y_{3}^{2}}{\\sqrt{y_{3}^{2} + \\left(- x_{3} + 1\\right)^{2}}}$$"
       ],
       "metadata": {},
       "output_type": "pyout",
       "prompt_number": 6,
       "text": [
        "                                                2          2  \n",
        "                x\u2083 - x\u2084                     - x\u2083  + x\u2083 + y\u2083   \n",
        "-x\u2083 + \u2500\u2500\u2500\u2500\u2500\u2500\u2500\u2500\u2500\u2500\u2500\u2500\u2500\u2500\u2500\u2500\u2500\u2500\u2500\u2500\u2500\u2500\u2500\u2500\u2500\u2500\u2500\u2500 + 1 - \u2500\u2500\u2500\u2500\u2500\u2500\u2500\u2500\u2500\u2500\u2500\u2500\u2500\u2500\u2500\u2500\u2500\u2500\u2500\u2500\u2500\n",
        "         _________________________          __________________\n",
        "        \u2571          2            2          \u2571   2            2 \n",
        "      \u2572\u2571  (x\u2083 - x\u2084)  + (y\u2083 - y\u2084)         \u2572\u2571  y\u2083  + (-x\u2083 + 1)  "
       ]
      }
     ],
     "prompt_number": 6
    },
    {
     "cell_type": "code",
     "collapsed": false,
     "input": [
      "dy3"
     ],
     "language": "python",
     "metadata": {},
     "outputs": [
      {
       "latex": [
        "$$- y_{3} + \\frac{y_{3} - y_{4}}{\\sqrt{\\left(x_{3} - x_{4}\\right)^{2} + \\left(y_{3} - y_{4}\\right)^{2}}} + \\frac{2 x_{3} y_{3} - y_{3}}{\\sqrt{y_{3}^{2} + \\left(- x_{3} + 1\\right)^{2}}}$$"
       ],
       "metadata": {},
       "output_type": "pyout",
       "prompt_number": 7,
       "text": [
        "                y\u2083 - y\u2084                   2\u22c5x\u2083\u22c5y\u2083 - y\u2083    \n",
        "-y\u2083 + \u2500\u2500\u2500\u2500\u2500\u2500\u2500\u2500\u2500\u2500\u2500\u2500\u2500\u2500\u2500\u2500\u2500\u2500\u2500\u2500\u2500\u2500\u2500\u2500\u2500\u2500\u2500\u2500 + \u2500\u2500\u2500\u2500\u2500\u2500\u2500\u2500\u2500\u2500\u2500\u2500\u2500\u2500\u2500\u2500\u2500\u2500\u2500\u2500\u2500\n",
        "         _________________________      __________________\n",
        "        \u2571          2            2      \u2571   2            2 \n",
        "      \u2572\u2571  (x\u2083 - x\u2084)  + (y\u2083 - y\u2084)     \u2572\u2571  y\u2083  + (-x\u2083 + 1)  "
       ]
      }
     ],
     "prompt_number": 7
    },
    {
     "cell_type": "code",
     "collapsed": false,
     "input": [
      "dx4"
     ],
     "language": "python",
     "metadata": {},
     "outputs": [
      {
       "latex": [
        "$$- x_{4} + \\frac{x_{4}}{\\sqrt{x_{4}^{2} + y_{4}^{2}}} + 1 - \\frac{- x_{3} x_{4} + x_{4} + y_{3} y_{4}}{\\sqrt{y_{3}^{2} + \\left(- x_{3} + 1\\right)^{2}}}$$"
       ],
       "metadata": {},
       "output_type": "pyout",
       "prompt_number": 8,
       "text": [
        "            x\u2084              -x\u2083\u22c5x\u2084 + x\u2084 + y\u2083\u22c5y\u2084 \n",
        "-x\u2084 + \u2500\u2500\u2500\u2500\u2500\u2500\u2500\u2500\u2500\u2500\u2500\u2500\u2500\u2500 + 1 - \u2500\u2500\u2500\u2500\u2500\u2500\u2500\u2500\u2500\u2500\u2500\u2500\u2500\u2500\u2500\u2500\u2500\u2500\u2500\u2500\u2500\n",
        "         ___________          __________________\n",
        "        \u2571   2     2          \u2571   2            2 \n",
        "      \u2572\u2571  x\u2084  + y\u2084         \u2572\u2571  y\u2083  + (-x\u2083 + 1)  "
       ]
      }
     ],
     "prompt_number": 8
    },
    {
     "cell_type": "code",
     "collapsed": false,
     "input": [
      "dy4"
     ],
     "language": "python",
     "metadata": {},
     "outputs": [
      {
       "latex": [
        "$$- y_{4} + \\frac{y_{4}}{\\sqrt{x_{4}^{2} + y_{4}^{2}}} - \\frac{- x_{3} y_{4} - x_{4} y_{3} + y_{4}}{\\sqrt{y_{3}^{2} + \\left(- x_{3} + 1\\right)^{2}}}$$"
       ],
       "metadata": {},
       "output_type": "pyout",
       "prompt_number": 9,
       "text": [
        "            y\u2084          -x\u2083\u22c5y\u2084 - x\u2084\u22c5y\u2083 + y\u2084 \n",
        "-y\u2084 + \u2500\u2500\u2500\u2500\u2500\u2500\u2500\u2500\u2500\u2500\u2500\u2500\u2500\u2500 - \u2500\u2500\u2500\u2500\u2500\u2500\u2500\u2500\u2500\u2500\u2500\u2500\u2500\u2500\u2500\u2500\u2500\u2500\u2500\u2500\u2500\n",
        "         ___________      __________________\n",
        "        \u2571   2     2      \u2571   2            2 \n",
        "      \u2572\u2571  x\u2084  + y\u2084     \u2572\u2571  y\u2083  + (-x\u2083 + 1)  "
       ]
      }
     ],
     "prompt_number": 9
    },
    {
     "cell_type": "code",
     "collapsed": false,
     "input": [
      "XB = sy.Matrix([dx3, dy3, dx4, dy4])\n",
      "YB = sy.Matrix([x3, y3, x4, y4])\n",
      "JB = XB.jacobian(YB)\n",
      "JB"
     ],
     "language": "python",
     "metadata": {},
     "outputs": [
      {
       "latex": [
        "$$\\left[\\begin{matrix}- \\frac{- 2 x_{3} + 1}{\\sqrt{y_{3}^{2} + \\left(- x_{3} + 1\\right)^{2}}} - \\frac{\\left(- x_{3} + 1\\right) \\left(- x_{3}^{2} + x_{3} + y_{3}^{2}\\right)}{\\left(y_{3}^{2} + \\left(- x_{3} + 1\\right)^{2}\\right)^{\\frac{3}{2}}} + \\frac{\\left(- x_{3} + x_{4}\\right) \\left(x_{3} - x_{4}\\right)}{\\left(\\left(x_{3} - x_{4}\\right)^{2} + \\left(y_{3} - y_{4}\\right)^{2}\\right)^{\\frac{3}{2}}} - 1 + \\frac{1}{\\sqrt{\\left(x_{3} - x_{4}\\right)^{2} + \\left(y_{3} - y_{4}\\right)^{2}}} & - \\frac{2 y_{3}}{\\sqrt{y_{3}^{2} + \\left(- x_{3} + 1\\right)^{2}}} + \\frac{y_{3} \\left(- x_{3}^{2} + x_{3} + y_{3}^{2}\\right)}{\\left(y_{3}^{2} + \\left(- x_{3} + 1\\right)^{2}\\right)^{\\frac{3}{2}}} + \\frac{\\left(x_{3} - x_{4}\\right) \\left(- y_{3} + y_{4}\\right)}{\\left(\\left(x_{3} - x_{4}\\right)^{2} + \\left(y_{3} - y_{4}\\right)^{2}\\right)^{\\frac{3}{2}}} & \\frac{\\left(x_{3} - x_{4}\\right)^{2}}{\\left(\\left(x_{3} - x_{4}\\right)^{2} + \\left(y_{3} - y_{4}\\right)^{2}\\right)^{\\frac{3}{2}}} - \\frac{1}{\\sqrt{\\left(x_{3} - x_{4}\\right)^{2} + \\left(y_{3} - y_{4}\\right)^{2}}} & \\frac{\\left(x_{3} - x_{4}\\right) \\left(y_{3} - y_{4}\\right)}{\\left(\\left(x_{3} - x_{4}\\right)^{2} + \\left(y_{3} - y_{4}\\right)^{2}\\right)^{\\frac{3}{2}}}\\\\\\frac{2 y_{3}}{\\sqrt{y_{3}^{2} + \\left(- x_{3} + 1\\right)^{2}}} + \\frac{\\left(- x_{3} + 1\\right) \\left(2 x_{3} y_{3} - y_{3}\\right)}{\\left(y_{3}^{2} + \\left(- x_{3} + 1\\right)^{2}\\right)^{\\frac{3}{2}}} + \\frac{\\left(- x_{3} + x_{4}\\right) \\left(y_{3} - y_{4}\\right)}{\\left(\\left(x_{3} - x_{4}\\right)^{2} + \\left(y_{3} - y_{4}\\right)^{2}\\right)^{\\frac{3}{2}}} & - \\frac{y_{3} \\left(2 x_{3} y_{3} - y_{3}\\right)}{\\left(y_{3}^{2} + \\left(- x_{3} + 1\\right)^{2}\\right)^{\\frac{3}{2}}} + \\frac{2 x_{3} - 1}{\\sqrt{y_{3}^{2} + \\left(- x_{3} + 1\\right)^{2}}} + \\frac{\\left(- y_{3} + y_{4}\\right) \\left(y_{3} - y_{4}\\right)}{\\left(\\left(x_{3} - x_{4}\\right)^{2} + \\left(y_{3} - y_{4}\\right)^{2}\\right)^{\\frac{3}{2}}} - 1 + \\frac{1}{\\sqrt{\\left(x_{3} - x_{4}\\right)^{2} + \\left(y_{3} - y_{4}\\right)^{2}}} & \\frac{\\left(x_{3} - x_{4}\\right) \\left(y_{3} - y_{4}\\right)}{\\left(\\left(x_{3} - x_{4}\\right)^{2} + \\left(y_{3} - y_{4}\\right)^{2}\\right)^{\\frac{3}{2}}} & \\frac{\\left(y_{3} - y_{4}\\right)^{2}}{\\left(\\left(x_{3} - x_{4}\\right)^{2} + \\left(y_{3} - y_{4}\\right)^{2}\\right)^{\\frac{3}{2}}} - \\frac{1}{\\sqrt{\\left(x_{3} - x_{4}\\right)^{2} + \\left(y_{3} - y_{4}\\right)^{2}}}\\\\\\frac{x_{4}}{\\sqrt{y_{3}^{2} + \\left(- x_{3} + 1\\right)^{2}}} - \\frac{\\left(- x_{3} + 1\\right) \\left(- x_{3} x_{4} + x_{4} + y_{3} y_{4}\\right)}{\\left(y_{3}^{2} + \\left(- x_{3} + 1\\right)^{2}\\right)^{\\frac{3}{2}}} & \\frac{y_{3} \\left(- x_{3} x_{4} + x_{4} + y_{3} y_{4}\\right)}{\\left(y_{3}^{2} + \\left(- x_{3} + 1\\right)^{2}\\right)^{\\frac{3}{2}}} - \\frac{y_{4}}{\\sqrt{y_{3}^{2} + \\left(- x_{3} + 1\\right)^{2}}} & - \\frac{x_{4}^{2}}{\\left(x_{4}^{2} + y_{4}^{2}\\right)^{\\frac{3}{2}}} - \\frac{- x_{3} + 1}{\\sqrt{y_{3}^{2} + \\left(- x_{3} + 1\\right)^{2}}} - 1 + \\frac{1}{\\sqrt{x_{4}^{2} + y_{4}^{2}}} & - \\frac{x_{4} y_{4}}{\\left(x_{4}^{2} + y_{4}^{2}\\right)^{\\frac{3}{2}}} - \\frac{y_{3}}{\\sqrt{y_{3}^{2} + \\left(- x_{3} + 1\\right)^{2}}}\\\\\\frac{y_{4}}{\\sqrt{y_{3}^{2} + \\left(- x_{3} + 1\\right)^{2}}} - \\frac{\\left(- x_{3} + 1\\right) \\left(- x_{3} y_{4} - x_{4} y_{3} + y_{4}\\right)}{\\left(y_{3}^{2} + \\left(- x_{3} + 1\\right)^{2}\\right)^{\\frac{3}{2}}} & \\frac{x_{4}}{\\sqrt{y_{3}^{2} + \\left(- x_{3} + 1\\right)^{2}}} + \\frac{y_{3} \\left(- x_{3} y_{4} - x_{4} y_{3} + y_{4}\\right)}{\\left(y_{3}^{2} + \\left(- x_{3} + 1\\right)^{2}\\right)^{\\frac{3}{2}}} & - \\frac{x_{4} y_{4}}{\\left(x_{4}^{2} + y_{4}^{2}\\right)^{\\frac{3}{2}}} + \\frac{y_{3}}{\\sqrt{y_{3}^{2} + \\left(- x_{3} + 1\\right)^{2}}} & - \\frac{y_{4}^{2}}{\\left(x_{4}^{2} + y_{4}^{2}\\right)^{\\frac{3}{2}}} - \\frac{- x_{3} + 1}{\\sqrt{y_{3}^{2} + \\left(- x_{3} + 1\\right)^{2}}} - 1 + \\frac{1}{\\sqrt{x_{4}^{2} + y_{4}^{2}}}\\end{matrix}\\right]$$"
       ],
       "metadata": {},
       "output_type": "pyout",
       "prompt_number": 10,
       "text": [
        "\u23a1                                    \u239b    2          2\u239e                       \n",
        "\u23a2        -2\u22c5x\u2083 + 1         (-x\u2083 + 1)\u22c5\u239d- x\u2083  + x\u2083 + y\u2083 \u23a0       (-x\u2083 + x\u2084)\u22c5(x\u2083 -\n",
        "\u23a2- \u2500\u2500\u2500\u2500\u2500\u2500\u2500\u2500\u2500\u2500\u2500\u2500\u2500\u2500\u2500\u2500\u2500\u2500\u2500\u2500\u2500 - \u2500\u2500\u2500\u2500\u2500\u2500\u2500\u2500\u2500\u2500\u2500\u2500\u2500\u2500\u2500\u2500\u2500\u2500\u2500\u2500\u2500\u2500\u2500\u2500\u2500\u2500\u2500\u2500 + \u2500\u2500\u2500\u2500\u2500\u2500\u2500\u2500\u2500\u2500\u2500\u2500\u2500\u2500\u2500\u2500\u2500\u2500\u2500\u2500\n",
        "\u23a2     __________________                        3/2                           \n",
        "\u23a2    \u2571   2            2       \u239b  2            2\u239e          \u239b         2         \n",
        "\u23a2  \u2572\u2571  y\u2083  + (-x\u2083 + 1)        \u239dy\u2083  + (-x\u2083 + 1) \u23a0          \u239d(x\u2083 - x\u2084)  + (y\u2083 - \n",
        "\u23a2                                                                             \n",
        "\u23a2                                                                             \n",
        "\u23a2                             2\u22c5y\u2083           (-x\u2083 + 1)\u22c5(2\u22c5x\u2083\u22c5y\u2083 - y\u2083)       (-\n",
        "\u23a2                    \u2500\u2500\u2500\u2500\u2500\u2500\u2500\u2500\u2500\u2500\u2500\u2500\u2500\u2500\u2500\u2500\u2500\u2500\u2500\u2500\u2500 + \u2500\u2500\u2500\u2500\u2500\u2500\u2500\u2500\u2500\u2500\u2500\u2500\u2500\u2500\u2500\u2500\u2500\u2500\u2500\u2500\u2500\u2500\u2500\u2500 + \u2500\u2500\u2500\u2500\u2500\u2500\n",
        "\u23a2                       __________________                      3/2           \n",
        "\u23a2                      \u2571   2            2     \u239b  2            2\u239e        \u239b     \n",
        "\u23a2                    \u2572\u2571  y\u2083  + (-x\u2083 + 1)      \u239dy\u2083  + (-x\u2083 + 1) \u23a0        \u239d(x\u2083 -\n",
        "\u23a2                                                                             \n",
        "\u23a2                                                                             \n",
        "\u23a2                                          x\u2084            (-x\u2083 + 1)\u22c5(-x\u2083\u22c5x\u2084 + x\n",
        "\u23a2                                \u2500\u2500\u2500\u2500\u2500\u2500\u2500\u2500\u2500\u2500\u2500\u2500\u2500\u2500\u2500\u2500\u2500\u2500\u2500\u2500\u2500 - \u2500\u2500\u2500\u2500\u2500\u2500\u2500\u2500\u2500\u2500\u2500\u2500\u2500\u2500\u2500\u2500\u2500\u2500\u2500\u2500\u2500\n",
        "\u23a2                                   __________________                        \n",
        "\u23a2                                  \u2571   2            2         \u239b  2            \n",
        "\u23a2                                \u2572\u2571  y\u2083  + (-x\u2083 + 1)          \u239dy\u2083  + (-x\u2083 + 1)\n",
        "\u23a2                                                                             \n",
        "\u23a2                                                                             \n",
        "\u23a2                                          y\u2084            (-x\u2083 + 1)\u22c5(-x\u2083\u22c5y\u2084 - x\n",
        "\u23a2                                \u2500\u2500\u2500\u2500\u2500\u2500\u2500\u2500\u2500\u2500\u2500\u2500\u2500\u2500\u2500\u2500\u2500\u2500\u2500\u2500\u2500 - \u2500\u2500\u2500\u2500\u2500\u2500\u2500\u2500\u2500\u2500\u2500\u2500\u2500\u2500\u2500\u2500\u2500\u2500\u2500\u2500\u2500\n",
        "\u23a2                                   __________________                        \n",
        "\u23a2                                  \u2571   2            2         \u239b  2            \n",
        "\u23a3                                \u2572\u2571  y\u2083  + (-x\u2083 + 1)          \u239dy\u2083  + (-x\u2083 + 1)\n",
        "\n",
        "                                                                              \n",
        " x\u2084)                        1                                            2\u22c5y\u2083 \n",
        "\u2500\u2500\u2500\u2500\u2500\u2500\u2500\u2500 - 1 + \u2500\u2500\u2500\u2500\u2500\u2500\u2500\u2500\u2500\u2500\u2500\u2500\u2500\u2500\u2500\u2500\u2500\u2500\u2500\u2500\u2500\u2500\u2500\u2500\u2500\u2500\u2500\u2500                   - \u2500\u2500\u2500\u2500\u2500\u2500\u2500\u2500\u2500\u2500\u2500\u2500\u2500\u2500\n",
        "     3/2          _________________________                        ___________\n",
        "   2\u239e            \u2571          2            2                        \u2571   2       \n",
        "y\u2084) \u23a0          \u2572\u2571  (x\u2083 - x\u2084)  + (y\u2083 - y\u2084)                       \u2572\u2571  y\u2083  + (-x\u2083\n",
        "                                                                              \n",
        "                                                                              \n",
        "x\u2083 + x\u2084)\u22c5(y\u2083 - y\u2084)                               y\u2083\u22c5(2\u22c5x\u2083\u22c5y\u2083 - y\u2083)            \n",
        "\u2500\u2500\u2500\u2500\u2500\u2500\u2500\u2500\u2500\u2500\u2500\u2500\u2500\u2500\u2500\u2500\u2500\u2500\u2500\u2500\u2500\u2500                       - \u2500\u2500\u2500\u2500\u2500\u2500\u2500\u2500\u2500\u2500\u2500\u2500\u2500\u2500\u2500\u2500\u2500\u2500\u2500\u2500\u2500 + \u2500\u2500\u2500\u2500\u2500\u2500\u2500\n",
        "                   3/2                                           3/2      ____\n",
        "    2            2\u239e                            \u239b  2            2\u239e        \u2571   2\n",
        " x\u2084)  + (y\u2083 - y\u2084) \u23a0                            \u239dy\u2083  + (-x\u2083 + 1) \u23a0      \u2572\u2571  y\u2083 \n",
        "                                                                              \n",
        "                                                                              \n",
        "\u2084 + y\u2083\u22c5y\u2084)                                                                   y\n",
        "\u2500\u2500\u2500\u2500\u2500\u2500\u2500\u2500\u2500\u2500                                                                   \u2500\n",
        "  3/2                                                                         \n",
        "2\u239e                                                                            \n",
        " \u23a0                                                                            \n",
        "                                                                              \n",
        "                                                                              \n",
        "\u2084\u22c5y\u2083 + y\u2084)                                                                    \n",
        "\u2500\u2500\u2500\u2500\u2500\u2500\u2500\u2500\u2500\u2500                                                                   \u2500\n",
        "  3/2                                                                         \n",
        "2\u239e                                                                            \n",
        " \u23a0                                                                           \u2572\n",
        "\n",
        "             \u239b    2          2\u239e                                               \n",
        "          y\u2083\u22c5\u239d- x\u2083  + x\u2083 + y\u2083 \u23a0       (x\u2083 - x\u2084)\u22c5(-y\u2083 + y\u2084)                    \n",
        "\u2500\u2500\u2500\u2500\u2500\u2500\u2500 + \u2500\u2500\u2500\u2500\u2500\u2500\u2500\u2500\u2500\u2500\u2500\u2500\u2500\u2500\u2500\u2500\u2500\u2500\u2500\u2500\u2500 + \u2500\u2500\u2500\u2500\u2500\u2500\u2500\u2500\u2500\u2500\u2500\u2500\u2500\u2500\u2500\u2500\u2500\u2500\u2500\u2500\u2500\u2500\u2500\u2500\u2500\u2500\u2500\u2500                \n",
        "_______                     3/2                            3/2                \n",
        "     2    \u239b  2            2\u239e      \u239b         2            2\u239e                   \n",
        " + 1)     \u239dy\u2083  + (-x\u2083 + 1) \u23a0      \u239d(x\u2083 - x\u2084)  + (y\u2083 - y\u2084) \u23a0                   \n",
        "                                                                              \n",
        "                                                                              \n",
        "2\u22c5x\u2083 - 1             (-y\u2083 + y\u2084)\u22c5(y\u2083 - y\u2084)                        1            \n",
        "\u2500\u2500\u2500\u2500\u2500\u2500\u2500\u2500\u2500\u2500\u2500\u2500\u2500\u2500 + \u2500\u2500\u2500\u2500\u2500\u2500\u2500\u2500\u2500\u2500\u2500\u2500\u2500\u2500\u2500\u2500\u2500\u2500\u2500\u2500\u2500\u2500\u2500\u2500\u2500\u2500\u2500\u2500 - 1 + \u2500\u2500\u2500\u2500\u2500\u2500\u2500\u2500\u2500\u2500\u2500\u2500\u2500\u2500\u2500\u2500\u2500\u2500\u2500\u2500\u2500\u2500\u2500\u2500\u2500\u2500\n",
        "______________                            3/2          _______________________\n",
        "            2    \u239b         2            2\u239e            \u2571          2            \n",
        " + (-x\u2083 + 1)     \u239d(x\u2083 - x\u2084)  + (y\u2083 - y\u2084) \u23a0          \u2572\u2571  (x\u2083 - x\u2084)  + (y\u2083 - y\u2084)\n",
        "                                                                              \n",
        "                                                                              \n",
        "\u2083\u22c5(-x\u2083\u22c5x\u2084 + x\u2084 + y\u2083\u22c5y\u2084)             y\u2084                                        \n",
        "\u2500\u2500\u2500\u2500\u2500\u2500\u2500\u2500\u2500\u2500\u2500\u2500\u2500\u2500\u2500\u2500\u2500\u2500\u2500\u2500\u2500\u2500\u2500 - \u2500\u2500\u2500\u2500\u2500\u2500\u2500\u2500\u2500\u2500\u2500\u2500\u2500\u2500\u2500\u2500\u2500\u2500\u2500\u2500\u2500                               \n",
        "                  3/2        __________________                               \n",
        "\u239b  2            2\u239e          \u2571   2            2                                \n",
        "\u239dy\u2083  + (-x\u2083 + 1) \u23a0        \u2572\u2571  y\u2083  + (-x\u2083 + 1)                                 \n",
        "                                                                              \n",
        "                                                                              \n",
        "         x\u2084            y\u2083\u22c5(-x\u2083\u22c5y\u2084 - x\u2084\u22c5y\u2083 + y\u2084)                               \n",
        "\u2500\u2500\u2500\u2500\u2500\u2500\u2500\u2500\u2500\u2500\u2500\u2500\u2500\u2500\u2500\u2500\u2500\u2500\u2500\u2500 + \u2500\u2500\u2500\u2500\u2500\u2500\u2500\u2500\u2500\u2500\u2500\u2500\u2500\u2500\u2500\u2500\u2500\u2500\u2500\u2500\u2500\u2500\u2500\u2500                               \n",
        "  __________________                      3/2                                 \n",
        " \u2571   2            2     \u239b  2            2\u239e                                    \n",
        "\u2571  y\u2083  + (-x\u2083 + 1)      \u239dy\u2083  + (-x\u2083 + 1) \u23a0                                    \n",
        "\n",
        "                       2                                                      \n",
        "              (x\u2083 - x\u2084)                          1                            \n",
        "     \u2500\u2500\u2500\u2500\u2500\u2500\u2500\u2500\u2500\u2500\u2500\u2500\u2500\u2500\u2500\u2500\u2500\u2500\u2500\u2500\u2500\u2500\u2500\u2500\u2500\u2500\u2500\u2500 - \u2500\u2500\u2500\u2500\u2500\u2500\u2500\u2500\u2500\u2500\u2500\u2500\u2500\u2500\u2500\u2500\u2500\u2500\u2500\u2500\u2500\u2500\u2500\u2500\u2500\u2500\u2500\u2500              \n",
        "                              3/2      _________________________              \n",
        "     \u239b         2            2\u239e        \u2571          2            2               \n",
        "     \u239d(x\u2083 - x\u2084)  + (y\u2083 - y\u2084) \u23a0      \u2572\u2571  (x\u2083 - x\u2084)  + (y\u2083 - y\u2084)                \n",
        "                                                                              \n",
        "                                                                              \n",
        "                        (x\u2083 - x\u2084)\u22c5(y\u2083 - y\u2084)                                  (\n",
        "\u2500\u2500                  \u2500\u2500\u2500\u2500\u2500\u2500\u2500\u2500\u2500\u2500\u2500\u2500\u2500\u2500\u2500\u2500\u2500\u2500\u2500\u2500\u2500\u2500\u2500\u2500\u2500\u2500\u2500\u2500                    \u2500\u2500\u2500\u2500\u2500\u2500\u2500\u2500\u2500\u2500\n",
        "__                                           3/2                              \n",
        "2                   \u239b         2            2\u239e                       \u239b         \n",
        "                    \u239d(x\u2083 - x\u2084)  + (y\u2083 - y\u2084) \u23a0                       \u239d(x\u2083 - x\u2084)\n",
        "                                                                              \n",
        "             2                                                                \n",
        "           x\u2084                 -x\u2083 + 1                    1                    \n",
        "    - \u2500\u2500\u2500\u2500\u2500\u2500\u2500\u2500\u2500\u2500\u2500\u2500\u2500\u2500 - \u2500\u2500\u2500\u2500\u2500\u2500\u2500\u2500\u2500\u2500\u2500\u2500\u2500\u2500\u2500\u2500\u2500\u2500\u2500\u2500\u2500 - 1 + \u2500\u2500\u2500\u2500\u2500\u2500\u2500\u2500\u2500\u2500\u2500\u2500\u2500\u2500            -\n",
        "                 3/2      __________________          ___________             \n",
        "      \u239b  2     2\u239e        \u2571   2            2          \u2571   2     2              \n",
        "      \u239dx\u2084  + y\u2084 \u23a0      \u2572\u2571  y\u2083  + (-x\u2083 + 1)         \u2572\u2571  x\u2084  + y\u2084               \n",
        "                                                                              \n",
        "                                                                            2 \n",
        "                    x\u2084\u22c5y\u2084                  y\u2083                             y\u2084  \n",
        "              - \u2500\u2500\u2500\u2500\u2500\u2500\u2500\u2500\u2500\u2500\u2500\u2500\u2500\u2500 + \u2500\u2500\u2500\u2500\u2500\u2500\u2500\u2500\u2500\u2500\u2500\u2500\u2500\u2500\u2500\u2500\u2500\u2500\u2500\u2500\u2500             - \u2500\u2500\u2500\u2500\u2500\u2500\u2500\u2500\u2500\n",
        "                           3/2      __________________                        \n",
        "                \u239b  2     2\u239e        \u2571   2            2                \u239b  2     \n",
        "                \u239dx\u2084  + y\u2084 \u23a0      \u2572\u2571  y\u2083  + (-x\u2083 + 1)                 \u239dx\u2084  + y\u2084\n",
        "\n",
        "                                                  \u23a4\n",
        "         (x\u2083 - x\u2084)\u22c5(y\u2083 - y\u2084)                      \u23a5\n",
        "     \u2500\u2500\u2500\u2500\u2500\u2500\u2500\u2500\u2500\u2500\u2500\u2500\u2500\u2500\u2500\u2500\u2500\u2500\u2500\u2500\u2500\u2500\u2500\u2500\u2500\u2500\u2500\u2500                 \u23a5\n",
        "                              3/2                 \u23a5\n",
        "     \u239b         2            2\u239e                    \u23a5\n",
        "     \u239d(x\u2083 - x\u2084)  + (y\u2083 - y\u2084) \u23a0                    \u23a5\n",
        "                                                  \u23a5\n",
        "        2                                         \u23a5\n",
        "y\u2083 - y\u2084)                          1               \u23a5\n",
        "\u2500\u2500\u2500\u2500\u2500\u2500\u2500\u2500\u2500\u2500\u2500\u2500\u2500\u2500\u2500\u2500\u2500\u2500 - \u2500\u2500\u2500\u2500\u2500\u2500\u2500\u2500\u2500\u2500\u2500\u2500\u2500\u2500\u2500\u2500\u2500\u2500\u2500\u2500\u2500\u2500\u2500\u2500\u2500\u2500\u2500\u2500 \u23a5\n",
        "               3/2      _________________________ \u23a5\n",
        "2            2\u239e        \u2571          2            2  \u23a5\n",
        "  + (y\u2083 - y\u2084) \u23a0      \u2572\u2571  (x\u2083 - x\u2084)  + (y\u2083 - y\u2084)   \u23a5\n",
        "                                                  \u23a5\n",
        "                                                  \u23a5\n",
        "     x\u2084\u22c5y\u2084                  y\u2083                    \u23a5\n",
        " \u2500\u2500\u2500\u2500\u2500\u2500\u2500\u2500\u2500\u2500\u2500\u2500\u2500\u2500 - \u2500\u2500\u2500\u2500\u2500\u2500\u2500\u2500\u2500\u2500\u2500\u2500\u2500\u2500\u2500\u2500\u2500\u2500\u2500\u2500\u2500           \u23a5\n",
        "            3/2      __________________           \u23a5\n",
        " \u239b  2     2\u239e        \u2571   2            2            \u23a5\n",
        " \u239dx\u2084  + y\u2084 \u23a0      \u2572\u2571  y\u2083  + (-x\u2083 + 1)             \u23a5\n",
        "                                                  \u23a5\n",
        "                                                  \u23a5\n",
        "               -x\u2083 + 1                    1       \u23a5\n",
        "\u2500\u2500\u2500\u2500\u2500 - \u2500\u2500\u2500\u2500\u2500\u2500\u2500\u2500\u2500\u2500\u2500\u2500\u2500\u2500\u2500\u2500\u2500\u2500\u2500\u2500\u2500 - 1 + \u2500\u2500\u2500\u2500\u2500\u2500\u2500\u2500\u2500\u2500\u2500\u2500\u2500\u2500\u23a5\n",
        "  3/2      __________________          ___________\u23a5\n",
        "2\u239e        \u2571   2            2          \u2571   2     2 \u23a5\n",
        " \u23a0      \u2572\u2571  y\u2083  + (-x\u2083 + 1)         \u2572\u2571  x\u2084  + y\u2084  \u23a6"
       ]
      }
     ],
     "prompt_number": 10
    },
    {
     "cell_type": "heading",
     "level": 3,
     "metadata": {},
     "source": [
      "Square"
     ]
    },
    {
     "cell_type": "code",
     "collapsed": false,
     "input": [
      "JB1 = JB.subs([(x3,1),(y3,1), (x4,0),(y4,1)])\n",
      "JB1"
     ],
     "language": "python",
     "metadata": {},
     "outputs": [
      {
       "latex": [
        "$$\\left[\\begin{matrix}0 & -1 & 0 & 0\\\\2 & 0 & 0 & -1\\\\0 & 0 & 0 & -1\\\\1 & 0 & 1 & -1\\end{matrix}\\right]$$"
       ],
       "metadata": {},
       "output_type": "pyout",
       "prompt_number": 11,
       "text": [
        "\u23a10  -1  0  0 \u23a4\n",
        "\u23a2            \u23a5\n",
        "\u23a22  0   0  -1\u23a5\n",
        "\u23a2            \u23a5\n",
        "\u23a20  0   0  -1\u23a5\n",
        "\u23a2            \u23a5\n",
        "\u23a31  0   1  -1\u23a6"
       ]
      }
     ],
     "prompt_number": 11
    },
    {
     "cell_type": "code",
     "collapsed": false,
     "input": [
      "JB1.eigenvals()"
     ],
     "language": "python",
     "metadata": {},
     "outputs": [
      {
       "latex": [
        "$$\\begin{Bmatrix}- \\frac{1}{4} - \\frac{1}{2} \\sqrt{- \\frac{13}{9 \\sqrt[3]{\\frac{55}{216} + \\frac{\\sqrt{2289}}{72}}} - \\frac{5}{12} + 2 \\sqrt[3]{\\frac{55}{216} + \\frac{\\sqrt{2289}}{72}}} + \\frac{1}{2} \\sqrt{- 2 \\sqrt[3]{\\frac{55}{216} + \\frac{\\sqrt{2289}}{72}} - \\frac{5}{6} + \\frac{13}{9 \\sqrt[3]{\\frac{55}{216} + \\frac{\\sqrt{2289}}{72}}} + \\frac{5}{4 \\sqrt{- \\frac{13}{9 \\sqrt[3]{\\frac{55}{216} + \\frac{\\sqrt{2289}}{72}}} - \\frac{5}{12} + 2 \\sqrt[3]{\\frac{55}{216} + \\frac{\\sqrt{2289}}{72}}}}} : 1, & - \\frac{1}{4} + \\frac{1}{2} \\sqrt{- \\frac{13}{9 \\sqrt[3]{\\frac{55}{216} + \\frac{\\sqrt{2289}}{72}}} - \\frac{5}{12} + 2 \\sqrt[3]{\\frac{55}{216} + \\frac{\\sqrt{2289}}{72}}} - \\frac{1}{2} \\sqrt{- \\frac{5}{4 \\sqrt{- \\frac{13}{9 \\sqrt[3]{\\frac{55}{216} + \\frac{\\sqrt{2289}}{72}}} - \\frac{5}{12} + 2 \\sqrt[3]{\\frac{55}{216} + \\frac{\\sqrt{2289}}{72}}}} - 2 \\sqrt[3]{\\frac{55}{216} + \\frac{\\sqrt{2289}}{72}} - \\frac{5}{6} + \\frac{13}{9 \\sqrt[3]{\\frac{55}{216} + \\frac{\\sqrt{2289}}{72}}}} : 1, & - \\frac{1}{4} + \\frac{1}{2} \\sqrt{- \\frac{13}{9 \\sqrt[3]{\\frac{55}{216} + \\frac{\\sqrt{2289}}{72}}} - \\frac{5}{12} + 2 \\sqrt[3]{\\frac{55}{216} + \\frac{\\sqrt{2289}}{72}}} + \\frac{1}{2} \\sqrt{- \\frac{5}{4 \\sqrt{- \\frac{13}{9 \\sqrt[3]{\\frac{55}{216} + \\frac{\\sqrt{2289}}{72}}} - \\frac{5}{12} + 2 \\sqrt[3]{\\frac{55}{216} + \\frac{\\sqrt{2289}}{72}}}} - 2 \\sqrt[3]{\\frac{55}{216} + \\frac{\\sqrt{2289}}{72}} - \\frac{5}{6} + \\frac{13}{9 \\sqrt[3]{\\frac{55}{216} + \\frac{\\sqrt{2289}}{72}}}} : 1, & - \\frac{1}{2} \\sqrt{- 2 \\sqrt[3]{\\frac{55}{216} + \\frac{\\sqrt{2289}}{72}} - \\frac{5}{6} + \\frac{13}{9 \\sqrt[3]{\\frac{55}{216} + \\frac{\\sqrt{2289}}{72}}} + \\frac{5}{4 \\sqrt{- \\frac{13}{9 \\sqrt[3]{\\frac{55}{216} + \\frac{\\sqrt{2289}}{72}}} - \\frac{5}{12} + 2 \\sqrt[3]{\\frac{55}{216} + \\frac{\\sqrt{2289}}{72}}}}} - \\frac{1}{4} - \\frac{1}{2} \\sqrt{- \\frac{13}{9 \\sqrt[3]{\\frac{55}{216} + \\frac{\\sqrt{2289}}{72}}} - \\frac{5}{12} + 2 \\sqrt[3]{\\frac{55}{216} + \\frac{\\sqrt{2289}}{72}}} : 1\\end{Bmatrix}$$"
       ],
       "metadata": {},
       "output_type": "pyout",
       "prompt_number": 12,
       "text": [
        "\u23a7                                                                             \n",
        "\u23aa                                                                             \n",
        "\u23aa                                                                             \n",
        "\u23aa                                                                             \n",
        "\u23aa                                                                             \n",
        "\u23aa                __________________________________________________________   \n",
        "\u23aa               \u2571                                         ________________    \n",
        "\u23aa              \u2571                                         \u2571         ______     \n",
        "\u23a8             \u2571                13             5         \u2571   55   \u2572\u2571 2289      \n",
        "\u23aa            \u2571    - \u2500\u2500\u2500\u2500\u2500\u2500\u2500\u2500\u2500\u2500\u2500\u2500\u2500\u2500\u2500\u2500\u2500\u2500\u2500\u2500\u2500\u2500\u2500 - \u2500\u2500 + 2\u22c53 \u2571   \u2500\u2500\u2500 + \u2500\u2500\u2500\u2500\u2500\u2500\u2500\u2500     \n",
        "\u23aa           \u2571              ________________   12     \u2572\u2571    216      72        \n",
        "\u23aa          \u2571              \u2571         ______                                    \n",
        "\u23aa         \u2571              \u2571   55   \u2572\u2571 2289                                     \n",
        "\u23aa        \u2571          9\u22c53 \u2571   \u2500\u2500\u2500 + \u2500\u2500\u2500\u2500\u2500\u2500\u2500\u2500                                    \n",
        "\u23aa  1   \u2572\u2571             \u2572\u2571    216      72                                       \n",
        "\u23aa- \u2500 - \u2500\u2500\u2500\u2500\u2500\u2500\u2500\u2500\u2500\u2500\u2500\u2500\u2500\u2500\u2500\u2500\u2500\u2500\u2500\u2500\u2500\u2500\u2500\u2500\u2500\u2500\u2500\u2500\u2500\u2500\u2500\u2500\u2500\u2500\u2500\u2500\u2500\u2500\u2500\u2500\u2500\u2500\u2500\u2500\u2500\u2500\u2500\u2500\u2500\u2500\u2500\u2500\u2500\u2500\u2500\u2500\u2500\u2500\u2500\u2500\u2500\u2500\u2500\u2500\u2500\u2500\u2500\u2500 + \n",
        "\u23a9  4                                    2                                     \n",
        "\n",
        "               _______________________________________________________________\n",
        "              \u2571          ________________                                     \n",
        "             \u2571          \u2571         ______                                      \n",
        "            \u2571          \u2571   55   \u2572\u2571 2289     5              13                 \n",
        "           \u2571    - 2\u22c53 \u2571   \u2500\u2500\u2500 + \u2500\u2500\u2500\u2500\u2500\u2500\u2500\u2500  - \u2500 + \u2500\u2500\u2500\u2500\u2500\u2500\u2500\u2500\u2500\u2500\u2500\u2500\u2500\u2500\u2500\u2500\u2500\u2500\u2500\u2500\u2500\u2500\u2500 + \u2500\u2500\u2500\u2500\n",
        "          \u2571         \u2572\u2571    216      72       6          ________________       \n",
        "         \u2571                                            \u2571         ______        \n",
        "        \u2571                                            \u2571   55   \u2572\u2571 2289         \n",
        "       \u2571                                        9\u22c53 \u2571   \u2500\u2500\u2500 + \u2500\u2500\u2500\u2500\u2500\u2500\u2500\u2500        \n",
        "      \u2571                                           \u2572\u2571    216      72       4\u22c5  \n",
        "     \u2571                                                                        \n",
        "    \u2571                                                                         \n",
        "   \u2571                                                                          \n",
        "  \u2571                                                                           \n",
        "\u2572\u2571                                                                          \u2572\u2571\n",
        "\u2500\u2500\u2500\u2500\u2500\u2500\u2500\u2500\u2500\u2500\u2500\u2500\u2500\u2500\u2500\u2500\u2500\u2500\u2500\u2500\u2500\u2500\u2500\u2500\u2500\u2500\u2500\u2500\u2500\u2500\u2500\u2500\u2500\u2500\u2500\u2500\u2500\u2500\u2500\u2500\u2500\u2500\u2500\u2500\u2500\u2500\u2500\u2500\u2500\u2500\u2500\u2500\u2500\u2500\u2500\u2500\u2500\u2500\u2500\u2500\u2500\u2500\u2500\u2500\u2500\u2500\u2500\u2500\u2500\u2500\u2500\u2500\u2500\u2500\u2500\u2500\u2500\u2500\n",
        "                                                                        2     \n",
        "\n",
        "___________________________________________________________________           \n",
        "                                                                              \n",
        "                                                                              \n",
        "                              5                                               \n",
        "\u2500\u2500\u2500\u2500\u2500\u2500\u2500\u2500\u2500\u2500\u2500\u2500\u2500\u2500\u2500\u2500\u2500\u2500\u2500\u2500\u2500\u2500\u2500\u2500\u2500\u2500\u2500\u2500\u2500\u2500\u2500\u2500\u2500\u2500\u2500\u2500\u2500\u2500\u2500\u2500\u2500\u2500\u2500\u2500\u2500\u2500\u2500\u2500\u2500\u2500\u2500\u2500\u2500\u2500\u2500\u2500\u2500\u2500\u2500\u2500\u2500\u2500\u2500\u2500\u2500\u2500            \n",
        "        __________________________________________________________            \n",
        "       \u2571                                         ________________             \n",
        "      \u2571                                         \u2571         ______              \n",
        "     \u2571                13             5         \u2571   55   \u2572\u2571 2289               \n",
        "    \u2571    - \u2500\u2500\u2500\u2500\u2500\u2500\u2500\u2500\u2500\u2500\u2500\u2500\u2500\u2500\u2500\u2500\u2500\u2500\u2500\u2500\u2500\u2500\u2500 - \u2500\u2500 + 2\u22c53 \u2571   \u2500\u2500\u2500 + \u2500\u2500\u2500\u2500\u2500\u2500\u2500\u2500              \n",
        "   \u2571              ________________   12     \u2572\u2571    216      72                 \n",
        "  \u2571              \u2571         ______                                             \n",
        " \u2571              \u2571   55   \u2572\u2571 2289                                              \n",
        "\u2571          9\u22c53 \u2571   \u2500\u2500\u2500 + \u2500\u2500\u2500\u2500\u2500\u2500\u2500\u2500                                             \n",
        "             \u2572\u2571    216      72                                            1   \n",
        "\u2500\u2500\u2500\u2500\u2500\u2500\u2500\u2500\u2500\u2500\u2500\u2500\u2500\u2500\u2500\u2500\u2500\u2500\u2500\u2500\u2500\u2500\u2500\u2500\u2500\u2500\u2500\u2500\u2500\u2500\u2500\u2500\u2500\u2500\u2500\u2500\u2500\u2500\u2500\u2500\u2500\u2500\u2500\u2500\u2500\u2500\u2500\u2500\u2500\u2500\u2500\u2500\u2500\u2500\u2500\u2500\u2500\u2500\u2500\u2500\u2500\u2500\u2500\u2500\u2500\u2500\u2500: 1, - \u2500 + \n",
        "                                                                          4   \n",
        "\n",
        "                                                                              \n",
        "                                                                              \n",
        "                                                                              \n",
        "                                                                              \n",
        "                                                                              \n",
        "          __________________________________________________________          \n",
        "         \u2571                                         ________________           \n",
        "        \u2571                                         \u2571         ______            \n",
        "       \u2571                13             5         \u2571   55   \u2572\u2571 2289             \n",
        "      \u2571    - \u2500\u2500\u2500\u2500\u2500\u2500\u2500\u2500\u2500\u2500\u2500\u2500\u2500\u2500\u2500\u2500\u2500\u2500\u2500\u2500\u2500\u2500\u2500 - \u2500\u2500 + 2\u22c53 \u2571   \u2500\u2500\u2500 + \u2500\u2500\u2500\u2500\u2500\u2500\u2500\u2500           \u2571\n",
        "     \u2571              ________________   12     \u2572\u2571    216      72             \u2571 \n",
        "    \u2571              \u2571         ______                                        \u2571  \n",
        "   \u2571              \u2571   55   \u2572\u2571 2289                                        \u2571   \n",
        "  \u2571          9\u22c53 \u2571   \u2500\u2500\u2500 + \u2500\u2500\u2500\u2500\u2500\u2500\u2500\u2500                                      \u2571    \n",
        "\u2572\u2571             \u2572\u2571    216      72                                       \u2572\u2571     \n",
        "\u2500\u2500\u2500\u2500\u2500\u2500\u2500\u2500\u2500\u2500\u2500\u2500\u2500\u2500\u2500\u2500\u2500\u2500\u2500\u2500\u2500\u2500\u2500\u2500\u2500\u2500\u2500\u2500\u2500\u2500\u2500\u2500\u2500\u2500\u2500\u2500\u2500\u2500\u2500\u2500\u2500\u2500\u2500\u2500\u2500\u2500\u2500\u2500\u2500\u2500\u2500\u2500\u2500\u2500\u2500\u2500\u2500\u2500\u2500\u2500\u2500\u2500\u2500\u2500\u2500\u2500\u2500\u2500 - \u2500\u2500\u2500\u2500\u2500\u2500\u2500\n",
        "                                 2                                            \n",
        "\n",
        "        ______________________________________________________________________\n",
        "       \u2571                                                                      \n",
        "      \u2571                                                                       \n",
        "     \u2571                                       5                                \n",
        "    \u2571    - \u2500\u2500\u2500\u2500\u2500\u2500\u2500\u2500\u2500\u2500\u2500\u2500\u2500\u2500\u2500\u2500\u2500\u2500\u2500\u2500\u2500\u2500\u2500\u2500\u2500\u2500\u2500\u2500\u2500\u2500\u2500\u2500\u2500\u2500\u2500\u2500\u2500\u2500\u2500\u2500\u2500\u2500\u2500\u2500\u2500\u2500\u2500\u2500\u2500\u2500\u2500\u2500\u2500\u2500\u2500\u2500\u2500\u2500\u2500\u2500\u2500\u2500\u2500\u2500\u2500\u2500\u2500\n",
        "   \u2571                   _______________________________________________________\n",
        "  \u2571                   \u2571                                         ______________\n",
        " \u2571                   \u2571                                         \u2571         _____\n",
        "\u2571                   \u2571                13             5         \u2571   55   \u2572\u2571 2289\n",
        "           4\u22c5      \u2571    - \u2500\u2500\u2500\u2500\u2500\u2500\u2500\u2500\u2500\u2500\u2500\u2500\u2500\u2500\u2500\u2500\u2500\u2500\u2500\u2500\u2500\u2500\u2500 - \u2500\u2500 + 2\u22c53 \u2571   \u2500\u2500\u2500 + \u2500\u2500\u2500\u2500\u2500\u2500\u2500\n",
        "                  \u2571              ________________   12     \u2572\u2571    216      72  \n",
        "                 \u2571              \u2571         ______                              \n",
        "                \u2571              \u2571   55   \u2572\u2571 2289                               \n",
        "               \u2571          9\u22c53 \u2571   \u2500\u2500\u2500 + \u2500\u2500\u2500\u2500\u2500\u2500\u2500\u2500                              \n",
        "             \u2572\u2571             \u2572\u2571    216      72                                 \n",
        "\u2500\u2500\u2500\u2500\u2500\u2500\u2500\u2500\u2500\u2500\u2500\u2500\u2500\u2500\u2500\u2500\u2500\u2500\u2500\u2500\u2500\u2500\u2500\u2500\u2500\u2500\u2500\u2500\u2500\u2500\u2500\u2500\u2500\u2500\u2500\u2500\u2500\u2500\u2500\u2500\u2500\u2500\u2500\u2500\u2500\u2500\u2500\u2500\u2500\u2500\u2500\u2500\u2500\u2500\u2500\u2500\u2500\u2500\u2500\u2500\u2500\u2500\u2500\u2500\u2500\u2500\u2500\u2500\u2500\u2500\u2500\u2500\u2500\u2500\u2500\u2500\u2500\u2500\n",
        "                                                                 2            \n",
        "\n",
        "____________________________________________________________                  \n",
        "             ________________                                                 \n",
        "            \u2571         ______                                                  \n",
        "           \u2571   55   \u2572\u2571 2289     5              13                             \n",
        "\u2500\u2500\u2500 - 2\u22c53 \u2571   \u2500\u2500\u2500 + \u2500\u2500\u2500\u2500\u2500\u2500\u2500\u2500  - \u2500 + \u2500\u2500\u2500\u2500\u2500\u2500\u2500\u2500\u2500\u2500\u2500\u2500\u2500\u2500\u2500\u2500\u2500\u2500\u2500\u2500\u2500\u2500\u2500                   \n",
        "___     \u2572\u2571    216      72       6          ________________                   \n",
        "__                                        \u2571         ______                    \n",
        "_                                        \u2571   55   \u2572\u2571 2289                     \n",
        "                                    9\u22c53 \u2571   \u2500\u2500\u2500 + \u2500\u2500\u2500\u2500\u2500\u2500\u2500\u2500                    \n",
        "\u2500                                     \u2572\u2571    216      72                      \u2571\n",
        "                                                                            \u2571 \n",
        "                                                                           \u2571  \n",
        "                                                                          \u2571   \n",
        "                                                                         \u2571    \n",
        "                                                                   1   \u2572\u2571     \n",
        "\u2500\u2500\u2500\u2500\u2500\u2500\u2500\u2500\u2500\u2500\u2500\u2500\u2500\u2500\u2500\u2500\u2500\u2500\u2500\u2500\u2500\u2500\u2500\u2500\u2500\u2500\u2500\u2500\u2500\u2500\u2500\u2500\u2500\u2500\u2500\u2500\u2500\u2500\u2500\u2500\u2500\u2500\u2500\u2500\u2500\u2500\u2500\u2500\u2500\u2500\u2500\u2500\u2500\u2500\u2500\u2500\u2500\u2500\u2500\u2500: 1, - \u2500 + \u2500\u2500\u2500\u2500\u2500\u2500\u2500\n",
        "                                                                   4          \n",
        "\n",
        "                                                                              \n",
        "                                                                              \n",
        "                                                                             \u2571\n",
        "                                                                            \u2571 \n",
        "                                                                           \u2571  \n",
        "   __________________________________________________________             \u2571   \n",
        "  \u2571                                         ________________             \u2571    \n",
        " \u2571                                         \u2571         ______             \u2571     \n",
        "\u2571                13             5         \u2571   55   \u2572\u2571 2289             \u2571      \n",
        "    - \u2500\u2500\u2500\u2500\u2500\u2500\u2500\u2500\u2500\u2500\u2500\u2500\u2500\u2500\u2500\u2500\u2500\u2500\u2500\u2500\u2500\u2500\u2500 - \u2500\u2500 + 2\u22c53 \u2571   \u2500\u2500\u2500 + \u2500\u2500\u2500\u2500\u2500\u2500\u2500\u2500           \u2571       \n",
        "             ________________   12     \u2572\u2571    216      72             \u2571        \n",
        "            \u2571         ______                                        \u2571         \n",
        "           \u2571   55   \u2572\u2571 2289                                        \u2571          \n",
        "      9\u22c53 \u2571   \u2500\u2500\u2500 + \u2500\u2500\u2500\u2500\u2500\u2500\u2500\u2500                                      \u2571           \n",
        "        \u2572\u2571    216      72                                       \u2572\u2571            \n",
        "\u2500\u2500\u2500\u2500\u2500\u2500\u2500\u2500\u2500\u2500\u2500\u2500\u2500\u2500\u2500\u2500\u2500\u2500\u2500\u2500\u2500\u2500\u2500\u2500\u2500\u2500\u2500\u2500\u2500\u2500\u2500\u2500\u2500\u2500\u2500\u2500\u2500\u2500\u2500\u2500\u2500\u2500\u2500\u2500\u2500\u2500\u2500\u2500\u2500\u2500\u2500\u2500\u2500\u2500\u2500\u2500\u2500\u2500\u2500\u2500\u2500 + \u2500\u2500\u2500\u2500\u2500\u2500\u2500\u2500\u2500\u2500\u2500\u2500\u2500\u2500\n",
        "                          2                                                   \n",
        "\n",
        " _____________________________________________________________________________\n",
        "\u2571                                                                             \n",
        "                                                                              \n",
        "                                      5                                       \n",
        "  - \u2500\u2500\u2500\u2500\u2500\u2500\u2500\u2500\u2500\u2500\u2500\u2500\u2500\u2500\u2500\u2500\u2500\u2500\u2500\u2500\u2500\u2500\u2500\u2500\u2500\u2500\u2500\u2500\u2500\u2500\u2500\u2500\u2500\u2500\u2500\u2500\u2500\u2500\u2500\u2500\u2500\u2500\u2500\u2500\u2500\u2500\u2500\u2500\u2500\u2500\u2500\u2500\u2500\u2500\u2500\u2500\u2500\u2500\u2500\u2500\u2500\u2500\u2500\u2500\u2500\u2500\u2500\u2500\u2500\u2500 - 2\n",
        "                __________________________________________________________    \n",
        "               \u2571                                         ________________     \n",
        "              \u2571                                         \u2571         ______      \n",
        "             \u2571                13             5         \u2571   55   \u2572\u2571 2289       \n",
        "    4\u22c5      \u2571    - \u2500\u2500\u2500\u2500\u2500\u2500\u2500\u2500\u2500\u2500\u2500\u2500\u2500\u2500\u2500\u2500\u2500\u2500\u2500\u2500\u2500\u2500\u2500 - \u2500\u2500 + 2\u22c53 \u2571   \u2500\u2500\u2500 + \u2500\u2500\u2500\u2500\u2500\u2500\u2500\u2500      \n",
        "           \u2571              ________________   12     \u2572\u2571    216      72         \n",
        "          \u2571              \u2571         ______                                     \n",
        "         \u2571              \u2571   55   \u2572\u2571 2289                                      \n",
        "        \u2571          9\u22c53 \u2571   \u2500\u2500\u2500 + \u2500\u2500\u2500\u2500\u2500\u2500\u2500\u2500                                     \n",
        "      \u2572\u2571             \u2572\u2571    216      72                                        \n",
        "\u2500\u2500\u2500\u2500\u2500\u2500\u2500\u2500\u2500\u2500\u2500\u2500\u2500\u2500\u2500\u2500\u2500\u2500\u2500\u2500\u2500\u2500\u2500\u2500\u2500\u2500\u2500\u2500\u2500\u2500\u2500\u2500\u2500\u2500\u2500\u2500\u2500\u2500\u2500\u2500\u2500\u2500\u2500\u2500\u2500\u2500\u2500\u2500\u2500\u2500\u2500\u2500\u2500\u2500\u2500\u2500\u2500\u2500\u2500\u2500\u2500\u2500\u2500\u2500\u2500\u2500\u2500\u2500\u2500\u2500\u2500\u2500\u2500\u2500\u2500\u2500\u2500\u2500\n",
        "                                                          2                   \n",
        "\n",
        "_____________________________________________________                      ___\n",
        "      ________________                                                    \u2571   \n",
        "     \u2571         ______                                                    \u2571    \n",
        "    \u2571   55   \u2572\u2571 2289     5              13                              \u2571     \n",
        "\u22c53 \u2571   \u2500\u2500\u2500 + \u2500\u2500\u2500\u2500\u2500\u2500\u2500\u2500  - \u2500 + \u2500\u2500\u2500\u2500\u2500\u2500\u2500\u2500\u2500\u2500\u2500\u2500\u2500\u2500\u2500\u2500\u2500\u2500\u2500\u2500\u2500\u2500\u2500                   \u2571    - \n",
        " \u2572\u2571    216      72       6          ________________                  \u2571       \n",
        "                                   \u2571         ______                  \u2571        \n",
        "                                  \u2571   55   \u2572\u2571 2289                  \u2571         \n",
        "                             9\u22c53 \u2571   \u2500\u2500\u2500 + \u2500\u2500\u2500\u2500\u2500\u2500\u2500\u2500                \u2571          \n",
        "                               \u2572\u2571    216      72                  \u2571           \n",
        "                                                                 \u2571            \n",
        "                                                                \u2571             \n",
        "                                                               \u2571              \n",
        "                                                              \u2571               \n",
        "                                                            \u2572\u2571                \n",
        "\u2500\u2500\u2500\u2500\u2500\u2500\u2500\u2500\u2500\u2500\u2500\u2500\u2500\u2500\u2500\u2500\u2500\u2500\u2500\u2500\u2500\u2500\u2500\u2500\u2500\u2500\u2500\u2500\u2500\u2500\u2500\u2500\u2500\u2500\u2500\u2500\u2500\u2500\u2500\u2500\u2500\u2500\u2500\u2500\u2500\u2500\u2500\u2500\u2500\u2500\u2500\u2500\u2500: 1, - \u2500\u2500\u2500\u2500\u2500\u2500\u2500\u2500\u2500\u2500\u2500\u2500\u2500\u2500\u2500\u2500\u2500\u2500\n",
        "                                                                              \n",
        "\n",
        "______________________________________________________________________________\n",
        "       ________________                                                       \n",
        "      \u2571         ______                                                        \n",
        "     \u2571   55   \u2572\u2571 2289     5              13                                   \n",
        "2\u22c53 \u2571   \u2500\u2500\u2500 + \u2500\u2500\u2500\u2500\u2500\u2500\u2500\u2500  - \u2500 + \u2500\u2500\u2500\u2500\u2500\u2500\u2500\u2500\u2500\u2500\u2500\u2500\u2500\u2500\u2500\u2500\u2500\u2500\u2500\u2500\u2500\u2500\u2500 + \u2500\u2500\u2500\u2500\u2500\u2500\u2500\u2500\u2500\u2500\u2500\u2500\u2500\u2500\u2500\u2500\u2500\u2500\u2500\u2500\u2500\u2500\n",
        "  \u2572\u2571    216      72       6          ________________               __________\n",
        "                                    \u2571         ______               \u2571          \n",
        "                                   \u2571   55   \u2572\u2571 2289               \u2571           \n",
        "                              9\u22c53 \u2571   \u2500\u2500\u2500 + \u2500\u2500\u2500\u2500\u2500\u2500\u2500\u2500             \u2571            \n",
        "                                \u2572\u2571    216      72       4\u22c5      \u2571    - \u2500\u2500\u2500\u2500\u2500\u2500\u2500\n",
        "                                                               \u2571              \n",
        "                                                              \u2571              \u2571\n",
        "                                                             \u2571              \u2571 \n",
        "                                                            \u2571          9\u22c53 \u2571  \n",
        "                                                          \u2572\u2571             \u2572\u2571   \n",
        "\u2500\u2500\u2500\u2500\u2500\u2500\u2500\u2500\u2500\u2500\u2500\u2500\u2500\u2500\u2500\u2500\u2500\u2500\u2500\u2500\u2500\u2500\u2500\u2500\u2500\u2500\u2500\u2500\u2500\u2500\u2500\u2500\u2500\u2500\u2500\u2500\u2500\u2500\u2500\u2500\u2500\u2500\u2500\u2500\u2500\u2500\u2500\u2500\u2500\u2500\u2500\u2500\u2500\u2500\u2500\u2500\u2500\u2500\u2500\u2500\u2500\u2500\u2500\u2500\u2500\u2500\u2500\u2500\u2500\u2500\u2500\u2500\u2500\u2500\u2500\u2500\u2500\u2500\n",
        "                                                      2                       \n",
        "\n",
        "_________________________________________________                             \n",
        "                                                                              \n",
        "                                                                              \n",
        "            5                                                                 \n",
        "\u2500\u2500\u2500\u2500\u2500\u2500\u2500\u2500\u2500\u2500\u2500\u2500\u2500\u2500\u2500\u2500\u2500\u2500\u2500\u2500\u2500\u2500\u2500\u2500\u2500\u2500\u2500\u2500\u2500\u2500\u2500\u2500\u2500\u2500\u2500\u2500\u2500\u2500\u2500\u2500\u2500\u2500\u2500\u2500\u2500\u2500\u2500\u2500                              \n",
        "________________________________________________                  ____________\n",
        "                               ________________                  \u2571            \n",
        "                              \u2571         ______                  \u2571             \n",
        "    13             5         \u2571   55   \u2572\u2571 2289                  \u2571              \n",
        "\u2500\u2500\u2500\u2500\u2500\u2500\u2500\u2500\u2500\u2500\u2500\u2500\u2500\u2500\u2500\u2500 - \u2500\u2500 + 2\u22c53 \u2571   \u2500\u2500\u2500 + \u2500\u2500\u2500\u2500\u2500\u2500\u2500\u2500                \u2571    - \u2500\u2500\u2500\u2500\u2500\u2500\u2500\u2500\u2500\n",
        "________________   12     \u2572\u2571    216      72                  \u2571              __\n",
        "         ______                                             \u2571              \u2571  \n",
        "  55   \u2572\u2571 2289                                             \u2571              \u2571   \n",
        " \u2500\u2500\u2500 + \u2500\u2500\u2500\u2500\u2500\u2500\u2500\u2500                                           \u2571          9\u22c53 \u2571   \u2500\n",
        " 216      72                                        1   \u2572\u2571             \u2572\u2571    2\n",
        "\u2500\u2500\u2500\u2500\u2500\u2500\u2500\u2500\u2500\u2500\u2500\u2500\u2500\u2500\u2500\u2500\u2500\u2500\u2500\u2500\u2500\u2500\u2500\u2500\u2500\u2500\u2500\u2500\u2500\u2500\u2500\u2500\u2500\u2500\u2500\u2500\u2500\u2500\u2500\u2500\u2500\u2500\u2500\u2500\u2500\u2500\u2500\u2500\u2500 - \u2500 - \u2500\u2500\u2500\u2500\u2500\u2500\u2500\u2500\u2500\u2500\u2500\u2500\u2500\u2500\u2500\u2500\u2500\u2500\u2500\u2500\u2500\u2500\n",
        "                                                    4                         \n",
        "\n",
        "                                                 \u23ab\n",
        "                                                 \u23aa\n",
        "                                                 \u23aa\n",
        "                                                 \u23aa\n",
        "                                                 \u23aa\n",
        "______________________________________________   \u23aa\n",
        "                             ________________    \u23aa\n",
        "                            \u2571         ______     \u23aa\n",
        "  13             5         \u2571   55   \u2572\u2571 2289      \u23ac\n",
        "\u2500\u2500\u2500\u2500\u2500\u2500\u2500\u2500\u2500\u2500\u2500\u2500\u2500\u2500 - \u2500\u2500 + 2\u22c53 \u2571   \u2500\u2500\u2500 + \u2500\u2500\u2500\u2500\u2500\u2500\u2500\u2500     \u23aa\n",
        "______________   12     \u2572\u2571    216      72        \u23aa\n",
        "       ______                                    \u23aa\n",
        "55   \u2572\u2571 2289                                     \u23aa\n",
        "\u2500\u2500 + \u2500\u2500\u2500\u2500\u2500\u2500\u2500\u2500                                    \u23aa\n",
        "16      72                                       \u23aa\n",
        "\u2500\u2500\u2500\u2500\u2500\u2500\u2500\u2500\u2500\u2500\u2500\u2500\u2500\u2500\u2500\u2500\u2500\u2500\u2500\u2500\u2500\u2500\u2500\u2500\u2500\u2500\u2500\u2500\u2500\u2500\u2500\u2500\u2500\u2500\u2500\u2500\u2500\u2500\u2500\u2500\u2500\u2500\u2500\u2500\u2500\u2500: 1\u23aa\n",
        "           2                                     \u23ad"
       ]
      }
     ],
     "prompt_number": 12
    },
    {
     "cell_type": "code",
     "collapsed": false,
     "input": [
      "JB1.eigenvects();"
     ],
     "language": "python",
     "metadata": {},
     "outputs": [],
     "prompt_number": 15
    },
    {
     "cell_type": "heading",
     "level": 3,
     "metadata": {},
     "source": [
      "Line configuration"
     ]
    },
    {
     "cell_type": "code",
     "collapsed": false,
     "input": [
      "JB2 = JB.subs([(x3,0),(y3,0), (x4,1),(y4,0)])\n",
      "JB2"
     ],
     "language": "python",
     "metadata": {},
     "outputs": [
      {
       "latex": [
        "$$\\left[\\begin{matrix}-2 & 0 & 0 & 0\\\\0 & -1 & 0 & -1\\\\0 & 0 & -2 & 0\\\\0 & 1 & 0 & -1\\end{matrix}\\right]$$"
       ],
       "metadata": {},
       "output_type": "pyout",
       "prompt_number": 14,
       "text": [
        "\u23a1-2  0   0   0 \u23a4\n",
        "\u23a2              \u23a5\n",
        "\u23a20   -1  0   -1\u23a5\n",
        "\u23a2              \u23a5\n",
        "\u23a20   0   -2  0 \u23a5\n",
        "\u23a2              \u23a5\n",
        "\u23a30   1   0   -1\u23a6"
       ]
      }
     ],
     "prompt_number": 14
    },
    {
     "cell_type": "code",
     "collapsed": false,
     "input": [
      "JB2.eigenvals()"
     ],
     "language": "python",
     "metadata": {},
     "outputs": [
      {
       "latex": [
        "$$\\begin{Bmatrix}-2 : 2, & -1 - i : 1, & -1 + i : 1\\end{Bmatrix}$$"
       ],
       "metadata": {},
       "output_type": "pyout",
       "prompt_number": 16,
       "text": [
        "{-2: 2, -1 - \u2148: 1, -1 + \u2148: 1}"
       ]
      }
     ],
     "prompt_number": 16
    },
    {
     "cell_type": "code",
     "collapsed": false,
     "input": [
      "JB2.eigenvects()"
     ],
     "language": "python",
     "metadata": {},
     "outputs": [
      {
       "latex": [
        "$$\\begin{bmatrix}\\begin{pmatrix}-2, & 2, & \\begin{bmatrix}\\left[\\begin{matrix}1\\\\0\\\\0\\\\0\\end{matrix}\\right], & \\left[\\begin{matrix}0\\\\0\\\\1\\\\0\\end{matrix}\\right]\\end{bmatrix}\\end{pmatrix}, & \\begin{pmatrix}-1 - i, & 1, & \\begin{bmatrix}\\left[\\begin{matrix}0\\\\- i\\\\0\\\\1\\end{matrix}\\right]\\end{bmatrix}\\end{pmatrix}, & \\begin{pmatrix}-1 + i, & 1, & \\begin{bmatrix}\\left[\\begin{matrix}0\\\\i\\\\0\\\\1\\end{matrix}\\right]\\end{bmatrix}\\end{pmatrix}\\end{bmatrix}$$"
       ],
       "metadata": {},
       "output_type": "pyout",
       "prompt_number": 17,
       "text": [
        "\u23a1\u239b-2, 2, \u23a1\u23a11\u23a4, \u23a10\u23a4\u23a4\u239e, \u239b-1 - \u2148, 1, \u23a1\u23a10 \u23a4\u23a4\u239e, \u239b-1 + \u2148, 1, \u23a1\u23a10\u23a4\u23a4\u239e\u23a4\n",
        "\u23a2\u239c       \u23a2\u23a2 \u23a5  \u23a2 \u23a5\u23a5\u239f  \u239c           \u23a2\u23a2  \u23a5\u23a5\u239f  \u239c           \u23a2\u23a2 \u23a5\u23a5\u239f\u23a5\n",
        "\u23a2\u239c       \u23a2\u23a20\u23a5  \u23a20\u23a5\u23a5\u239f  \u239c           \u23a2\u23a2-\u2148\u23a5\u23a5\u239f  \u239c           \u23a2\u23a2\u2148\u23a5\u23a5\u239f\u23a5\n",
        "\u23a2\u239c       \u23a2\u23a2 \u23a5  \u23a2 \u23a5\u23a5\u239f  \u239c           \u23a2\u23a2  \u23a5\u23a5\u239f  \u239c           \u23a2\u23a2 \u23a5\u23a5\u239f\u23a5\n",
        "\u23a2\u239c       \u23a2\u23a20\u23a5  \u23a21\u23a5\u23a5\u239f  \u239c           \u23a2\u23a20 \u23a5\u23a5\u239f  \u239c           \u23a2\u23a20\u23a5\u23a5\u239f\u23a5\n",
        "\u23a2\u239c       \u23a2\u23a2 \u23a5  \u23a2 \u23a5\u23a5\u239f  \u239c           \u23a2\u23a2  \u23a5\u23a5\u239f  \u239c           \u23a2\u23a2 \u23a5\u23a5\u239f\u23a5\n",
        "\u23a3\u239d       \u23a3\u23a30\u23a6  \u23a30\u23a6\u23a6\u23a0  \u239d           \u23a3\u23a31 \u23a6\u23a6\u23a0  \u239d           \u23a3\u23a31\u23a6\u23a6\u23a0\u23a6"
       ]
      }
     ],
     "prompt_number": 17
    },
    {
     "cell_type": "code",
     "collapsed": false,
     "input": [],
     "language": "python",
     "metadata": {},
     "outputs": []
    }
   ],
   "metadata": {}
  }
 ]
}