{
 "metadata": {
  "name": "",
  "signature": "sha256:8713ad1e4cb9d3f66a42633ef2748be75fd2f78fd62d2f11da0cb1c2cadcd1f9"
 },
 "nbformat": 3,
 "nbformat_minor": 0,
 "worksheets": [
  {
   "cells": [
    {
     "cell_type": "code",
     "collapsed": false,
     "input": [
      "%pylab inline\n",
      "from plots import *\n",
      "import numpy as np\n",
      "import matplotlib.pyplot as plt\n",
      "from scipy.integrate import odeint"
     ],
     "language": "python",
     "metadata": {},
     "outputs": [
      {
       "output_type": "stream",
       "stream": "stdout",
       "text": [
        "Populating the interactive namespace from numpy and matplotlib\n"
       ]
      }
     ],
     "prompt_number": 3
    },
    {
     "cell_type": "code",
     "collapsed": false,
     "input": [
      "def car2pol(coor):\n",
      "    \"\"\"\n",
      "    Returns polar coordinates [r, theta]\n",
      "    \"\"\"\n",
      "    r = sqrt(coor[0]**2 + coor[1]**2)\n",
      "    theta = np.arctan2(coor[1], coor[0])\n",
      "    return [r,theta]\n",
      "\n",
      "def pol2car(coor):\n",
      "    \"\"\"\n",
      "    Returns cartesian coordinates [x, y]\n",
      "    \"\"\"\n",
      "    x = coor[0] * np.cos(coor[1])\n",
      "    y = coor[0] * np.sin(coor[1])\n",
      "    return [x,y]"
     ],
     "language": "python",
     "metadata": {},
     "outputs": [],
     "prompt_number": 8
    },
    {
     "cell_type": "code",
     "collapsed": false,
     "input": [
      "quad = np.array([1, pi/2, 1, pi/2, 1, pi/2, 1, pi/2])"
     ],
     "language": "python",
     "metadata": {},
     "outputs": [],
     "prompt_number": 7
    },
    {
     "cell_type": "code",
     "collapsed": false,
     "input": [
      "def polygon(len_ang):\n",
      "    \n",
      "    n = len_ang.shape[0]/2\n",
      "    pol = np.zeros((n,2))\n",
      "    vec = np.array([0,0])\n",
      "    \n",
      "    for i in xrange(0,n):\n",
      "        pol[i,:] = pol2car(vec)\n",
      "        vec = vec + np.array([len_ang[2*(i-1)], len_ang[2*i - 1]])\n",
      "        print vec\n",
      "    \n",
      "    return pol"
     ],
     "language": "python",
     "metadata": {},
     "outputs": [],
     "prompt_number": 23
    },
    {
     "cell_type": "code",
     "collapsed": false,
     "input": [
      "polygon(quad)"
     ],
     "language": "python",
     "metadata": {},
     "outputs": [
      {
       "output_type": "stream",
       "stream": "stdout",
       "text": [
        "[ 1.          1.57079633]\n",
        "[ 2.          3.14159265]\n",
        "[ 3.          4.71238898]\n",
        "[ 4.          6.28318531]\n"
       ]
      },
      {
       "metadata": {},
       "output_type": "pyout",
       "prompt_number": 24,
       "text": [
        "array([[  0.00000000e+00,   0.00000000e+00],\n",
        "       [  6.12323400e-17,   1.00000000e+00],\n",
        "       [ -2.00000000e+00,   2.44929360e-16],\n",
        "       [ -5.51091060e-16,  -3.00000000e+00]])"
       ]
      }
     ],
     "prompt_number": 24
    },
    {
     "cell_type": "code",
     "collapsed": false,
     "input": [
      "plot_polygon(polygon(quad))"
     ],
     "language": "python",
     "metadata": {},
     "outputs": [
      {
       "output_type": "stream",
       "stream": "stdout",
       "text": [
        "[ 1.          1.57079633]\n",
        "[ 2.          3.14159265]\n",
        "[ 3.          4.71238898]\n",
        "[ 4.          6.28318531]\n"
       ]
      },
      {
       "metadata": {},
       "output_type": "display_data",
       "png": "[encoded data removed]",
       "text": [
        "<matplotlib.figure.Figure at 0x7f76e809fc10>"
       ]
      }
     ],
     "prompt_number": 25
    },
    {
     "cell_type": "code",
     "collapsed": false,
     "input": [],
     "language": "python",
     "metadata": {},
     "outputs": []
    }
   ],
   "metadata": {}
  }
 ]
}