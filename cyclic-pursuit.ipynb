{
 "metadata": {
  "name": "",
  "signature": "sha256:9874d847750e1fdaa6f0e1c600b02e385f8145fd78997ef6b9d513e2e22efb52"
 },
 "nbformat": 3,
 "nbformat_minor": 0,
 "worksheets": [
  {
   "cells": [
    {
     "cell_type": "heading",
     "level": 1,
     "metadata": {},
     "source": [
      "Cyclic pursuit"
     ]
    },
    {
     "cell_type": "code",
     "collapsed": false,
     "input": [
      "%pylab inline\n",
      "from plots import *\n",
      "import numpy as np\n",
      "import matplotlib.pyplot as plt\n",
      "from scipy.integrate import odeint"
     ],
     "language": "python",
     "metadata": {},
     "outputs": [
      {
       "output_type": "stream",
       "stream": "stdout",
       "text": [
        "Populating the interactive namespace from numpy and matplotlib\n"
       ]
      }
     ],
     "prompt_number": 2
    },
    {
     "cell_type": "code",
     "collapsed": false,
     "input": [
      "def pursuit_01(state,time):\n",
      "    \n",
      "    n = state.shape[0]/2\n",
      "    state = np.append(state, [state[0], state[1]])\n",
      "    state = state.reshape([n+1,2])\n",
      "    \n",
      "    y = np.array([])\n",
      "    \n",
      "    for i in xrange (0,n):\n",
      "        g = (state[i+1]-state[i])/np.linalg.norm(state[i+1]-state[i])\n",
      "        y = np.append(y,g)\n",
      "    \n",
      "    return y"
     ],
     "language": "python",
     "metadata": {},
     "outputs": [],
     "prompt_number": 3
    },
    {
     "cell_type": "code",
     "collapsed": false,
     "input": [
      "def pursuit_02(state,time):\n",
      "    \n",
      "    n = state.shape[0]/2\n",
      "    state = np.append(state, [state[0], state[1], state[2], state[3]])\n",
      "    state = state.reshape([n+2,2])\n",
      "    \n",
      "    y = np.array([])\n",
      "    \n",
      "    for i in xrange (0,n):\n",
      "        g = (state[i+2]-state[i])/np.linalg.norm(state[i+2]-state[i])\n",
      "        y = np.append(y,g)\n",
      "    \n",
      "    return y"
     ],
     "language": "python",
     "metadata": {},
     "outputs": [],
     "prompt_number": 4
    },
    {
     "cell_type": "code",
     "collapsed": false,
     "input": [
      "steps = 100\n",
      "time_limit = 1\n",
      "time = np.linspace(0,time_limit,steps)"
     ],
     "language": "python",
     "metadata": {},
     "outputs": [],
     "prompt_number": 5
    },
    {
     "cell_type": "code",
     "collapsed": false,
     "input": [
      "n = 4\n",
      "\n",
      "y_02 = np.zeros((4,2))\n",
      "y_02[0]=[-1,0]\n",
      "y_02[1]=[0,1]\n",
      "y_02[2]=[1,1]\n",
      "y_02[3]=[0,0]\n",
      "\n",
      "plot_polygon(y_02)"
     ],
     "language": "python",
     "metadata": {},
     "outputs": [
      {
       "metadata": {},
       "output_type": "display_data",
       "png": "[encoded data removed]",
       "text": [
        "<matplotlib.figure.Figure at 0x7ff19da0cb10>"
       ]
      }
     ],
     "prompt_number": 7
    },
    {
     "cell_type": "code",
     "collapsed": false,
     "input": [
      "solution = odeint(func=pursuit_01, y0 = y_02.reshape([2*n]), t = time)\n",
      "solution = solution.reshape((steps,n,2))"
     ],
     "language": "python",
     "metadata": {},
     "outputs": [],
     "prompt_number": 8
    },
    {
     "cell_type": "code",
     "collapsed": false,
     "input": [
      "plot_solution(solution)"
     ],
     "language": "python",
     "metadata": {},
     "outputs": [
      {
       "metadata": {},
       "output_type": "display_data",
       "png": "[encoded data removed]",
       "text": [
        "<matplotlib.figure.Figure at 0x7ff19d97e750>"
       ]
      }
     ],
     "prompt_number": 9
    },
    {
     "cell_type": "code",
     "collapsed": false,
     "input": [
      "steps = 100\n",
      "time_limit = 15\n",
      "time = np.linspace(0,time_limit,steps)"
     ],
     "language": "python",
     "metadata": {},
     "outputs": [],
     "prompt_number": 10
    },
    {
     "cell_type": "code",
     "collapsed": false,
     "input": [
      "n = 5\n",
      "\n",
      "y_02 = np.zeros((n,2))\n",
      "y_02[0]=[0,1]\n",
      "y_02[1]=[.587,.809]\n",
      "y_02[2]=[9.51,3.09]\n",
      "y_02[3]=[-9.51,3.09]\n",
      "y_02[4]=[-.587,.809]\n",
      "\n",
      "plot_polygon(y_02)"
     ],
     "language": "python",
     "metadata": {},
     "outputs": [
      {
       "metadata": {},
       "output_type": "display_data",
       "png": "[encoded data removed]",
       "text": [
        "<matplotlib.figure.Figure at 0x7ff19d973e10>"
       ]
      }
     ],
     "prompt_number": 11
    },
    {
     "cell_type": "code",
     "collapsed": false,
     "input": [
      "solution = odeint(func=pursuit_01, y0 = y_02.reshape([2*n]), t = time)\n",
      "solution = solution.reshape((steps,n,2))"
     ],
     "language": "python",
     "metadata": {},
     "outputs": [
      {
       "output_type": "stream",
       "stream": "stdout",
       "text": [
        "Excess work done on this call (perhaps wrong Dfun type).\n",
        "Run with full_output = 1 to get quantitative information.\n"
       ]
      }
     ],
     "prompt_number": 13
    },
    {
     "cell_type": "code",
     "collapsed": false,
     "input": [
      "plot_solution(solution)"
     ],
     "language": "python",
     "metadata": {},
     "outputs": [
      {
       "metadata": {},
       "output_type": "display_data",
       "png": "[encoded data removed]",
       "text": [
        "<matplotlib.figure.Figure at 0x7ff19d9b49d0>"
       ]
      }
     ],
     "prompt_number": 14
    },
    {
     "cell_type": "code",
     "collapsed": false,
     "input": [
      "72-18"
     ],
     "language": "python",
     "metadata": {},
     "outputs": [
      {
       "metadata": {},
       "output_type": "pyout",
       "prompt_number": 158,
       "text": [
        "54"
       ]
      }
     ],
     "prompt_number": 158
    },
    {
     "cell_type": "code",
     "collapsed": false,
     "input": [
      "sin(54*pi/180)"
     ],
     "language": "python",
     "metadata": {},
     "outputs": [
      {
       "metadata": {},
       "output_type": "pyout",
       "prompt_number": 159,
       "text": [
        "0.80901699437494745"
       ]
      }
     ],
     "prompt_number": 159
    },
    {
     "cell_type": "code",
     "collapsed": false,
     "input": [],
     "language": "python",
     "metadata": {},
     "outputs": []
    }
   ],
   "metadata": {}
  }
 ]
}