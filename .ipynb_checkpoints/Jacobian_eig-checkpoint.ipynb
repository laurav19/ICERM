{
 "metadata": {
  "name": "",
  "signature": "sha256:655ac18da4415cb26015cf8e189ecf67b93d45dfdb485a6aa064d2e532048699"
 },
 "nbformat": 3,
 "nbformat_minor": 0,
 "worksheets": [
  {
   "cells": [
    {
     "cell_type": "code",
     "collapsed": false,
     "input": [
      "%matplotlib inline\n",
      "import numpy as np\n",
      "import matplotlib.pyplot as plt\n",
      "\n",
      "import sympy as sy\n",
      "from scipy.integrate import odeint"
     ],
     "language": "python",
     "metadata": {},
     "outputs": [],
     "prompt_number": 2
    },
    {
     "cell_type": "code",
     "collapsed": false,
     "input": [
      "sy.init_printing(use_latex='mathjax')"
     ],
     "language": "python",
     "metadata": {},
     "outputs": [],
     "prompt_number": 3
    },
    {
     "cell_type": "code",
     "collapsed": false,
     "input": [
      "#Constants\n",
      "R = sy.Symbol('R')\n",
      "\n",
      "#Variables\n",
      "l1 = sy.Symbol('l_1')\n",
      "l2 = sy.Symbol('l_2')\n",
      "l3 = sy.Symbol('l_3')\n",
      "l4 = sy.Symbol('l_4')\n",
      "a1 = sy.Symbol('a_1')\n",
      "a2 = sy.Symbol('a_2')\n",
      "a3 = sy.Symbol('a_3')\n",
      "a4 = sy.Symbol('a_4')\n",
      "\n",
      "#Derivatives\n",
      "dl1 = sy.Function('\\dotl_1')\n",
      "dl2 = sy.Function('\\dotl_2')\n",
      "dl3 = sy.Function('\\dotl_3')\n",
      "dl4 = sy.Function('\\dotl_4')\n",
      "da1 = sy.Function('\\dota_1')\n",
      "da2 = sy.Function('\\dota_2')\n",
      "da3 = sy.Function('\\dota_3')\n",
      "da4 = sy.Function('\\dota_4')"
     ],
     "language": "python",
     "metadata": {},
     "outputs": [],
     "prompt_number": 4
    },
    {
     "cell_type": "code",
     "collapsed": false,
     "input": [
      "dl1 = 1 + sy.cos(a1)\n",
      "dl2 = 1 + sy.cos(a2)\n",
      "dl3 = 1 + sy.cos(a3)\n",
      "dl4 = 1 + sy.cos(a4)\n",
      "\n",
      "da1 = sy.sin(a2)/l2 - sy.sin(a1)/l1\n",
      "da2 = sy.sin(a3)/l3 - sy.sin(a2)/l2\n",
      "da3 = sy.sin(a4)/l4 - sy.sin(a3)/l3\n",
      "da4 = sy.sin(a1)/l1 - sy.sin(a4)/l4"
     ],
     "language": "python",
     "metadata": {},
     "outputs": [],
     "prompt_number": 8
    },
    {
     "cell_type": "code",
     "collapsed": false,
     "input": [
      "XA = sy.Matrix([dl1, da1, dl2, da2, dl3, da3, dl4, da4])\n",
      "YA = sy.Matrix([l1, a1, l2, a2, l3, a3, l4, a4])\n",
      "JA = XA.jacobian(YA)\n",
      "JA"
     ],
     "language": "python",
     "metadata": {},
     "outputs": [
      {
       "latex": [
        "$$\\left[\\begin{matrix}0 & - \\sin{\\left (a_{1} \\right )} & 0 & 0 & 0 & 0 & 0 & 0\\\\\\frac{1}{l_{1}^{2}} \\sin{\\left (a_{1} \\right )} & - \\frac{1}{l_{1}} \\cos{\\left (a_{1} \\right )} & - \\frac{1}{l_{2}^{2}} \\sin{\\left (a_{2} \\right )} & \\frac{1}{l_{2}} \\cos{\\left (a_{2} \\right )} & 0 & 0 & 0 & 0\\\\0 & 0 & 0 & - \\sin{\\left (a_{2} \\right )} & 0 & 0 & 0 & 0\\\\0 & 0 & \\frac{1}{l_{2}^{2}} \\sin{\\left (a_{2} \\right )} & - \\frac{1}{l_{2}} \\cos{\\left (a_{2} \\right )} & - \\frac{1}{l_{3}^{2}} \\sin{\\left (a_{3} \\right )} & \\frac{1}{l_{3}} \\cos{\\left (a_{3} \\right )} & 0 & 0\\\\0 & 0 & 0 & 0 & 0 & - \\sin{\\left (a_{3} \\right )} & 0 & 0\\\\0 & 0 & 0 & 0 & \\frac{1}{l_{3}^{2}} \\sin{\\left (a_{3} \\right )} & - \\frac{1}{l_{3}} \\cos{\\left (a_{3} \\right )} & - \\frac{1}{l_{4}^{2}} \\sin{\\left (a_{4} \\right )} & \\frac{1}{l_{4}} \\cos{\\left (a_{4} \\right )}\\\\0 & 0 & 0 & 0 & 0 & 0 & 0 & - \\sin{\\left (a_{4} \\right )}\\\\- \\frac{1}{l_{1}^{2}} \\sin{\\left (a_{1} \\right )} & \\frac{1}{l_{1}} \\cos{\\left (a_{1} \\right )} & 0 & 0 & 0 & 0 & \\frac{1}{l_{4}^{2}} \\sin{\\left (a_{4} \\right )} & - \\frac{1}{l_{4}} \\cos{\\left (a_{4} \\right )}\\end{matrix}\\right]$$"
       ],
       "metadata": {},
       "output_type": "pyout",
       "prompt_number": 9,
       "text": [
        "\u23a1    0      -sin(a\u2081)       0          0          0          0          0      \n",
        "\u23a2                                                                             \n",
        "\u23a2 sin(a\u2081)   -cos(a\u2081)   -sin(a\u2082)    cos(a\u2082)                                    \n",
        "\u23a2 \u2500\u2500\u2500\u2500\u2500\u2500\u2500   \u2500\u2500\u2500\u2500\u2500\u2500\u2500\u2500\u2500  \u2500\u2500\u2500\u2500\u2500\u2500\u2500\u2500\u2500   \u2500\u2500\u2500\u2500\u2500\u2500\u2500       0          0          0      \n",
        "\u23a2     2         l\u2081          2         l\u2082                                      \n",
        "\u23a2   l\u2081                    l\u2082                                                  \n",
        "\u23a2                                                                             \n",
        "\u23a2    0          0          0      -sin(a\u2082)       0          0          0      \n",
        "\u23a2                                                                             \n",
        "\u23a2                       sin(a\u2082)   -cos(a\u2082)   -sin(a\u2083)    cos(a\u2083)              \n",
        "\u23a2    0          0       \u2500\u2500\u2500\u2500\u2500\u2500\u2500   \u2500\u2500\u2500\u2500\u2500\u2500\u2500\u2500\u2500  \u2500\u2500\u2500\u2500\u2500\u2500\u2500\u2500\u2500   \u2500\u2500\u2500\u2500\u2500\u2500\u2500       0      \n",
        "\u23a2                           2         l\u2082          2         l\u2083                \n",
        "\u23a2                         l\u2082                    l\u2083                            \n",
        "\u23a2                                                                             \n",
        "\u23a2    0          0          0          0          0      -sin(a\u2083)       0      \n",
        "\u23a2                                                                             \n",
        "\u23a2                                             sin(a\u2083)   -cos(a\u2083)   -sin(a\u2084)   \n",
        "\u23a2    0          0          0          0       \u2500\u2500\u2500\u2500\u2500\u2500\u2500   \u2500\u2500\u2500\u2500\u2500\u2500\u2500\u2500\u2500  \u2500\u2500\u2500\u2500\u2500\u2500\u2500\u2500\u2500  \n",
        "\u23a2                                                 2         l\u2083          2     \n",
        "\u23a2                                               l\u2083                    l\u2084      \n",
        "\u23a2                                                                             \n",
        "\u23a2    0          0          0          0          0          0          0      \n",
        "\u23a2                                                                             \n",
        "\u23a2-sin(a\u2081)    cos(a\u2081)                                                sin(a\u2084)   \n",
        "\u23a2\u2500\u2500\u2500\u2500\u2500\u2500\u2500\u2500\u2500   \u2500\u2500\u2500\u2500\u2500\u2500\u2500       0          0          0          0       \u2500\u2500\u2500\u2500\u2500\u2500\u2500   \n",
        "\u23a2     2         l\u2081                                                      2     \n",
        "\u23a3   l\u2081                                                                l\u2084      \n",
        "\n",
        "    0    \u23a4\n",
        "         \u23a5\n",
        "         \u23a5\n",
        "    0    \u23a5\n",
        "         \u23a5\n",
        "         \u23a5\n",
        "         \u23a5\n",
        "    0    \u23a5\n",
        "         \u23a5\n",
        "         \u23a5\n",
        "    0    \u23a5\n",
        "         \u23a5\n",
        "         \u23a5\n",
        "         \u23a5\n",
        "    0    \u23a5\n",
        "         \u23a5\n",
        " cos(a\u2084) \u23a5\n",
        " \u2500\u2500\u2500\u2500\u2500\u2500\u2500 \u23a5\n",
        "    l\u2084   \u23a5\n",
        "         \u23a5\n",
        "         \u23a5\n",
        "-sin(a\u2084) \u23a5\n",
        "         \u23a5\n",
        "-cos(a\u2084) \u23a5\n",
        "\u2500\u2500\u2500\u2500\u2500\u2500\u2500\u2500\u2500\u23a5\n",
        "    l\u2084   \u23a5\n",
        "         \u23a6"
       ]
      }
     ],
     "prompt_number": 9
    },
    {
     "cell_type": "heading",
     "level": 3,
     "metadata": {},
     "source": [
      "Square"
     ]
    },
    {
     "cell_type": "code",
     "collapsed": false,
     "input": [
      "JA1 = JA.subs([(l1,R),(a1,sy.pi/2), (l2,R),(a2,sy.pi/2), (l3,R),(a3,sy.pi/2), (l4,R),(a4,sy.pi/2)])\n",
      "JA1"
     ],
     "language": "python",
     "metadata": {},
     "outputs": [
      {
       "latex": [
        "$$\\left[\\begin{matrix}0 & -1 & 0 & 0 & 0 & 0 & 0 & 0\\\\\\frac{1}{R^{2}} & 0 & - \\frac{1}{R^{2}} & 0 & 0 & 0 & 0 & 0\\\\0 & 0 & 0 & -1 & 0 & 0 & 0 & 0\\\\0 & 0 & \\frac{1}{R^{2}} & 0 & - \\frac{1}{R^{2}} & 0 & 0 & 0\\\\0 & 0 & 0 & 0 & 0 & -1 & 0 & 0\\\\0 & 0 & 0 & 0 & \\frac{1}{R^{2}} & 0 & - \\frac{1}{R^{2}} & 0\\\\0 & 0 & 0 & 0 & 0 & 0 & 0 & -1\\\\- \\frac{1}{R^{2}} & 0 & 0 & 0 & 0 & 0 & \\frac{1}{R^{2}} & 0\\end{matrix}\\right]$$"
       ],
       "metadata": {},
       "output_type": "pyout",
       "prompt_number": 10,
       "text": [
        "\u23a1 0   -1   0   0    0   0    0   0 \u23a4\n",
        "\u23a2                                  \u23a5\n",
        "\u23a21        -1                       \u23a5\n",
        "\u23a2\u2500\u2500   0   \u2500\u2500\u2500  0    0   0    0   0 \u23a5\n",
        "\u23a2 2         2                      \u23a5\n",
        "\u23a2R         R                       \u23a5\n",
        "\u23a2                                  \u23a5\n",
        "\u23a2 0   0    0   -1   0   0    0   0 \u23a5\n",
        "\u23a2                                  \u23a5\n",
        "\u23a2         1        -1              \u23a5\n",
        "\u23a2 0   0   \u2500\u2500   0   \u2500\u2500\u2500  0    0   0 \u23a5\n",
        "\u23a2          2         2             \u23a5\n",
        "\u23a2         R         R              \u23a5\n",
        "\u23a2                                  \u23a5\n",
        "\u23a2 0   0    0   0    0   -1   0   0 \u23a5\n",
        "\u23a2                                  \u23a5\n",
        "\u23a2                  1        -1     \u23a5\n",
        "\u23a2 0   0    0   0   \u2500\u2500   0   \u2500\u2500\u2500  0 \u23a5\n",
        "\u23a2                   2         2    \u23a5\n",
        "\u23a2                  R         R     \u23a5\n",
        "\u23a2                                  \u23a5\n",
        "\u23a2 0   0    0   0    0   0    0   -1\u23a5\n",
        "\u23a2                                  \u23a5\n",
        "\u23a2-1                         1      \u23a5\n",
        "\u23a2\u2500\u2500\u2500  0    0   0    0   0   \u2500\u2500   0 \u23a5\n",
        "\u23a2  2                         2     \u23a5\n",
        "\u23a3 R                         R      \u23a6"
       ]
      }
     ],
     "prompt_number": 10
    },
    {
     "cell_type": "code",
     "collapsed": false,
     "input": [
      "JA1.eigenvals()"
     ],
     "language": "python",
     "metadata": {},
     "outputs": [
      {
       "latex": [
        "$$\\begin{Bmatrix}0 : 2, & - \\frac{1}{R} \\sqrt{-1 - i} : 1, & \\frac{1}{R} \\sqrt{-1 - i} : 1, & - \\frac{1}{R} \\sqrt{-1 + i} : 1, & \\frac{1}{R} \\sqrt{-1 + i} : 1, & - \\frac{\\sqrt{2} i}{R} : 1, & \\frac{\\sqrt{2} i}{R} : 1\\end{Bmatrix}$$"
       ],
       "metadata": {},
       "output_type": "pyout",
       "prompt_number": 11,
       "text": [
        "\u23a7         ________        ________        ________        ________        ___ \n",
        "\u23aa      -\u2572\u2571 -1 - \u2148       \u2572\u2571 -1 - \u2148      -\u2572\u2571 -1 + \u2148       \u2572\u2571 -1 + \u2148      -\u2572\u2571 2 \u22c5\n",
        "\u23a80: 2, \u2500\u2500\u2500\u2500\u2500\u2500\u2500\u2500\u2500\u2500\u2500\u2500: 1, \u2500\u2500\u2500\u2500\u2500\u2500\u2500\u2500\u2500\u2500: 1, \u2500\u2500\u2500\u2500\u2500\u2500\u2500\u2500\u2500\u2500\u2500\u2500: 1, \u2500\u2500\u2500\u2500\u2500\u2500\u2500\u2500\u2500\u2500: 1, \u2500\u2500\u2500\u2500\u2500\u2500\u2500\n",
        "\u23aa           R               R               R               R              R  \n",
        "\u23a9                                                                             \n",
        "\n",
        "         ___     \u23ab\n",
        "\u2148      \u2572\u2571 2 \u22c5\u2148   \u23aa\n",
        "\u2500\u2500: 1, \u2500\u2500\u2500\u2500\u2500\u2500\u2500: 1\u23ac\n",
        "          R      \u23aa\n",
        "                 \u23ad"
       ]
      }
     ],
     "prompt_number": 11
    },
    {
     "cell_type": "code",
     "collapsed": false,
     "input": [
      "JA1.eigenvects()"
     ],
     "language": "python",
     "metadata": {},
     "outputs": [
      {
       "latex": [
        "$$\\begin{bmatrix}\\begin{pmatrix}0, & 2, & \\begin{bmatrix}\\left[\\begin{matrix}1\\\\0\\\\1\\\\0\\\\1\\\\0\\\\1\\\\0\\end{matrix}\\right]\\end{bmatrix}\\end{pmatrix}, & \\begin{pmatrix}- \\frac{1}{R} \\sqrt{-1 - i}, & 1, & \\begin{bmatrix}\\left[\\begin{matrix}- \\frac{i R}{\\sqrt{-1 - i}}\\\\- i\\\\- \\frac{R}{\\sqrt{-1 - i}}\\\\-1\\\\\\frac{i R}{\\sqrt{-1 - i}}\\\\i\\\\\\frac{R}{\\sqrt{-1 - i}}\\\\1\\end{matrix}\\right]\\end{bmatrix}\\end{pmatrix}, & \\begin{pmatrix}\\frac{1}{R} \\sqrt{-1 - i}, & 1, & \\begin{bmatrix}\\left[\\begin{matrix}\\frac{i R}{\\sqrt{-1 - i}}\\\\- i\\\\\\frac{R}{\\sqrt{-1 - i}}\\\\-1\\\\- \\frac{i R}{\\sqrt{-1 - i}}\\\\i\\\\- \\frac{R}{\\sqrt{-1 - i}}\\\\1\\end{matrix}\\right]\\end{bmatrix}\\end{pmatrix}, & \\begin{pmatrix}- \\frac{1}{R} \\sqrt{-1 + i}, & 1, & \\begin{bmatrix}\\left[\\begin{matrix}\\frac{i R}{\\sqrt{-1 + i}}\\\\i\\\\- \\frac{R}{\\sqrt{-1 + i}}\\\\-1\\\\- \\frac{i R}{\\sqrt{-1 + i}}\\\\- i\\\\\\frac{R}{\\sqrt{-1 + i}}\\\\1\\end{matrix}\\right]\\end{bmatrix}\\end{pmatrix}, & \\begin{pmatrix}\\frac{1}{R} \\sqrt{-1 + i}, & 1, & \\begin{bmatrix}\\left[\\begin{matrix}- \\frac{i R}{\\sqrt{-1 + i}}\\\\i\\\\\\frac{R}{\\sqrt{-1 + i}}\\\\-1\\\\\\frac{i R}{\\sqrt{-1 + i}}\\\\- i\\\\- \\frac{R}{\\sqrt{-1 + i}}\\\\1\\end{matrix}\\right]\\end{bmatrix}\\end{pmatrix}, & \\begin{pmatrix}- \\frac{\\sqrt{2} i}{R}, & 1, & \\begin{bmatrix}\\left[\\begin{matrix}\\frac{i R}{2} \\sqrt{2}\\\\-1\\\\- \\frac{i R}{2} \\sqrt{2}\\\\1\\\\\\frac{i R}{2} \\sqrt{2}\\\\-1\\\\- \\frac{i R}{2} \\sqrt{2}\\\\1\\end{matrix}\\right]\\end{bmatrix}\\end{pmatrix}, & \\begin{pmatrix}\\frac{\\sqrt{2} i}{R}, & 1, & \\begin{bmatrix}\\left[\\begin{matrix}- \\frac{i R}{2} \\sqrt{2}\\\\-1\\\\\\frac{i R}{2} \\sqrt{2}\\\\1\\\\- \\frac{i R}{2} \\sqrt{2}\\\\-1\\\\\\frac{i R}{2} \\sqrt{2}\\\\1\\end{matrix}\\right]\\end{bmatrix}\\end{pmatrix}\\end{bmatrix}$$"
       ],
       "metadata": {},
       "output_type": "pyout",
       "prompt_number": 12,
       "text": [
        "\u23a1               \u239b   ________                    \u239e  \u239b  ________                \n",
        "\u23a2               \u239c-\u2572\u2571 -1 - \u2148       \u23a1\u23a1  -\u2148\u22c5R    \u23a4\u23a4\u239f  \u239c\u2572\u2571 -1 - \u2148      \u23a1\u23a1   \u2148\u22c5R   \n",
        "\u23a2\u239b0, 2, \u23a1\u23a11\u23a4\u23a4\u239e, \u239c\u2500\u2500\u2500\u2500\u2500\u2500\u2500\u2500\u2500\u2500\u2500\u2500, 1, \u23a2\u23a2\u2500\u2500\u2500\u2500\u2500\u2500\u2500\u2500\u2500\u2500\u23a5\u23a5\u239f, \u239c\u2500\u2500\u2500\u2500\u2500\u2500\u2500\u2500\u2500\u2500, 1, \u23a2\u23a2\u2500\u2500\u2500\u2500\u2500\u2500\u2500\u2500\u2500\n",
        "\u23a2\u239c      \u23a2\u23a2 \u23a5\u23a5\u239f  \u239c     R           \u23a2\u23a2  ________\u23a5\u23a5\u239f  \u239c    R          \u23a2\u23a2  _______\n",
        "\u23a2\u239c      \u23a2\u23a20\u23a5\u23a5\u239f  \u239c                 \u23a2\u23a2\u2572\u2571 -1 - \u2148 \u23a5\u23a5\u239f  \u239c               \u23a2\u23a2\u2572\u2571 -1 - \u2148\n",
        "\u23a2\u239c      \u23a2\u23a2 \u23a5\u23a5\u239f  \u239c                 \u23a2\u23a2          \u23a5\u23a5\u239f  \u239c               \u23a2\u23a2         \n",
        "\u23a2\u239c      \u23a2\u23a21\u23a5\u23a5\u239f  \u239c                 \u23a2\u23a2    -\u2148    \u23a5\u23a5\u239f  \u239c               \u23a2\u23a2    -\u2148   \n",
        "\u23a2\u239c      \u23a2\u23a2 \u23a5\u23a5\u239f  \u239c                 \u23a2\u23a2          \u23a5\u23a5\u239f  \u239c               \u23a2\u23a2         \n",
        "\u23a2\u239c      \u23a2\u23a20\u23a5\u23a5\u239f  \u239c                 \u23a2\u23a2   -R     \u23a5\u23a5\u239f  \u239c               \u23a2\u23a2    R    \n",
        "\u23a2\u239c      \u23a2\u23a2 \u23a5\u23a5\u239f  \u239c                 \u23a2\u23a2\u2500\u2500\u2500\u2500\u2500\u2500\u2500\u2500\u2500\u2500\u23a5\u23a5\u239f  \u239c               \u23a2\u23a2\u2500\u2500\u2500\u2500\u2500\u2500\u2500\u2500\u2500\n",
        "\u23a2\u239c      \u23a2\u23a21\u23a5\u23a5\u239f  \u239c                 \u23a2\u23a2  ________\u23a5\u23a5\u239f  \u239c               \u23a2\u23a2  _______\n",
        "\u23a2\u239c      \u23a2\u23a2 \u23a5\u23a5\u239f  \u239c                 \u23a2\u23a2\u2572\u2571 -1 - \u2148 \u23a5\u23a5\u239f  \u239c               \u23a2\u23a2\u2572\u2571 -1 - \u2148\n",
        "\u23a2\u239c      \u23a2\u23a20\u23a5\u23a5\u239f  \u239c                 \u23a2\u23a2          \u23a5\u23a5\u239f  \u239c               \u23a2\u23a2         \n",
        "\u23a2\u239c      \u23a2\u23a2 \u23a5\u23a5\u239f  \u239c                 \u23a2\u23a2    -1    \u23a5\u23a5\u239f  \u239c               \u23a2\u23a2    -1   \n",
        "\u23a2\u239c      \u23a2\u23a21\u23a5\u23a5\u239f  \u239c                 \u23a2\u23a2          \u23a5\u23a5\u239f  \u239c               \u23a2\u23a2         \n",
        "\u23a2\u239c      \u23a2\u23a2 \u23a5\u23a5\u239f  \u239c                 \u23a2\u23a2   \u2148\u22c5R    \u23a5\u23a5\u239f  \u239c               \u23a2\u23a2  -\u2148\u22c5R   \n",
        "\u23a2\u239d      \u23a3\u23a30\u23a6\u23a6\u23a0  \u239c                 \u23a2\u23a2\u2500\u2500\u2500\u2500\u2500\u2500\u2500\u2500\u2500\u2500\u23a5\u23a5\u239f  \u239c               \u23a2\u23a2\u2500\u2500\u2500\u2500\u2500\u2500\u2500\u2500\u2500\n",
        "\u23a2               \u239c                 \u23a2\u23a2  ________\u23a5\u23a5\u239f  \u239c               \u23a2\u23a2  _______\n",
        "\u23a2               \u239c                 \u23a2\u23a2\u2572\u2571 -1 - \u2148 \u23a5\u23a5\u239f  \u239c               \u23a2\u23a2\u2572\u2571 -1 - \u2148\n",
        "\u23a2               \u239c                 \u23a2\u23a2          \u23a5\u23a5\u239f  \u239c               \u23a2\u23a2         \n",
        "\u23a2               \u239c                 \u23a2\u23a2    \u2148     \u23a5\u23a5\u239f  \u239c               \u23a2\u23a2    \u2148    \n",
        "\u23a2               \u239c                 \u23a2\u23a2          \u23a5\u23a5\u239f  \u239c               \u23a2\u23a2         \n",
        "\u23a2               \u239c                 \u23a2\u23a2    R     \u23a5\u23a5\u239f  \u239c               \u23a2\u23a2   -R    \n",
        "\u23a2               \u239c                 \u23a2\u23a2\u2500\u2500\u2500\u2500\u2500\u2500\u2500\u2500\u2500\u2500\u23a5\u23a5\u239f  \u239c               \u23a2\u23a2\u2500\u2500\u2500\u2500\u2500\u2500\u2500\u2500\u2500\n",
        "\u23a2               \u239c                 \u23a2\u23a2  ________\u23a5\u23a5\u239f  \u239c               \u23a2\u23a2  _______\n",
        "\u23a2               \u239c                 \u23a2\u23a2\u2572\u2571 -1 - \u2148 \u23a5\u23a5\u239f  \u239c               \u23a2\u23a2\u2572\u2571 -1 - \u2148\n",
        "\u23a2               \u239c                 \u23a2\u23a2          \u23a5\u23a5\u239f  \u239c               \u23a2\u23a2         \n",
        "\u23a3               \u239d                 \u23a3\u23a3    1     \u23a6\u23a6\u23a0  \u239d               \u23a3\u23a3    1    \n",
        "\n",
        "   \u239e  \u239b   ________                    \u239e  \u239b  ________                   \u239e  \u239b   \n",
        " \u23a4\u23a4\u239f  \u239c-\u2572\u2571 -1 + \u2148       \u23a1\u23a1   \u2148\u22c5R    \u23a4\u23a4\u239f  \u239c\u2572\u2571 -1 + \u2148      \u23a1\u23a1  -\u2148\u22c5R    \u23a4\u23a4\u239f  \u239c-\u2572\u2571\n",
        "\u2500\u23a5\u23a5\u239f, \u239c\u2500\u2500\u2500\u2500\u2500\u2500\u2500\u2500\u2500\u2500\u2500\u2500, 1, \u23a2\u23a2\u2500\u2500\u2500\u2500\u2500\u2500\u2500\u2500\u2500\u2500\u23a5\u23a5\u239f, \u239c\u2500\u2500\u2500\u2500\u2500\u2500\u2500\u2500\u2500\u2500, 1, \u23a2\u23a2\u2500\u2500\u2500\u2500\u2500\u2500\u2500\u2500\u2500\u2500\u23a5\u23a5\u239f, \u239c\u2500\u2500\u2500\n",
        "_\u23a5\u23a5\u239f  \u239c     R           \u23a2\u23a2  ________\u23a5\u23a5\u239f  \u239c    R          \u23a2\u23a2  ________\u23a5\u23a5\u239f  \u239c   \n",
        " \u23a5\u23a5\u239f  \u239c                 \u23a2\u23a2\u2572\u2571 -1 + \u2148 \u23a5\u23a5\u239f  \u239c               \u23a2\u23a2\u2572\u2571 -1 + \u2148 \u23a5\u23a5\u239f  \u239c   \n",
        " \u23a5\u23a5\u239f  \u239c                 \u23a2\u23a2          \u23a5\u23a5\u239f  \u239c               \u23a2\u23a2          \u23a5\u23a5\u239f  \u239c   \n",
        " \u23a5\u23a5\u239f  \u239c                 \u23a2\u23a2    \u2148     \u23a5\u23a5\u239f  \u239c               \u23a2\u23a2    \u2148     \u23a5\u23a5\u239f  \u239c   \n",
        " \u23a5\u23a5\u239f  \u239c                 \u23a2\u23a2          \u23a5\u23a5\u239f  \u239c               \u23a2\u23a2          \u23a5\u23a5\u239f  \u239c   \n",
        " \u23a5\u23a5\u239f  \u239c                 \u23a2\u23a2   -R     \u23a5\u23a5\u239f  \u239c               \u23a2\u23a2    R     \u23a5\u23a5\u239f  \u239c   \n",
        "\u2500\u23a5\u23a5\u239f  \u239c                 \u23a2\u23a2\u2500\u2500\u2500\u2500\u2500\u2500\u2500\u2500\u2500\u2500\u23a5\u23a5\u239f  \u239c               \u23a2\u23a2\u2500\u2500\u2500\u2500\u2500\u2500\u2500\u2500\u2500\u2500\u23a5\u23a5\u239f  \u239c   \n",
        "_\u23a5\u23a5\u239f  \u239c                 \u23a2\u23a2  ________\u23a5\u23a5\u239f  \u239c               \u23a2\u23a2  ________\u23a5\u23a5\u239f  \u239c   \n",
        " \u23a5\u23a5\u239f  \u239c                 \u23a2\u23a2\u2572\u2571 -1 + \u2148 \u23a5\u23a5\u239f  \u239c               \u23a2\u23a2\u2572\u2571 -1 + \u2148 \u23a5\u23a5\u239f  \u239c   \n",
        " \u23a5\u23a5\u239f  \u239c                 \u23a2\u23a2          \u23a5\u23a5\u239f  \u239c               \u23a2\u23a2          \u23a5\u23a5\u239f  \u239c   \n",
        " \u23a5\u23a5\u239f  \u239c                 \u23a2\u23a2    -1    \u23a5\u23a5\u239f  \u239c               \u23a2\u23a2    -1    \u23a5\u23a5\u239f  \u239c   \n",
        " \u23a5\u23a5\u239f  \u239c                 \u23a2\u23a2          \u23a5\u23a5\u239f  \u239c               \u23a2\u23a2          \u23a5\u23a5\u239f  \u239c   \n",
        " \u23a5\u23a5\u239f  \u239c                 \u23a2\u23a2  -\u2148\u22c5R    \u23a5\u23a5\u239f  \u239c               \u23a2\u23a2   \u2148\u22c5R    \u23a5\u23a5\u239f  \u239c   \n",
        "\u2500\u23a5\u23a5\u239f  \u239c                 \u23a2\u23a2\u2500\u2500\u2500\u2500\u2500\u2500\u2500\u2500\u2500\u2500\u23a5\u23a5\u239f  \u239c               \u23a2\u23a2\u2500\u2500\u2500\u2500\u2500\u2500\u2500\u2500\u2500\u2500\u23a5\u23a5\u239f  \u239c   \n",
        "_\u23a5\u23a5\u239f  \u239c                 \u23a2\u23a2  ________\u23a5\u23a5\u239f  \u239c               \u23a2\u23a2  ________\u23a5\u23a5\u239f  \u239c   \n",
        " \u23a5\u23a5\u239f  \u239c                 \u23a2\u23a2\u2572\u2571 -1 + \u2148 \u23a5\u23a5\u239f  \u239c               \u23a2\u23a2\u2572\u2571 -1 + \u2148 \u23a5\u23a5\u239f  \u239c   \n",
        " \u23a5\u23a5\u239f  \u239c                 \u23a2\u23a2          \u23a5\u23a5\u239f  \u239c               \u23a2\u23a2          \u23a5\u23a5\u239f  \u239c   \n",
        " \u23a5\u23a5\u239f  \u239c                 \u23a2\u23a2    -\u2148    \u23a5\u23a5\u239f  \u239c               \u23a2\u23a2    -\u2148    \u23a5\u23a5\u239f  \u239c   \n",
        " \u23a5\u23a5\u239f  \u239c                 \u23a2\u23a2          \u23a5\u23a5\u239f  \u239c               \u23a2\u23a2          \u23a5\u23a5\u239f  \u239c   \n",
        " \u23a5\u23a5\u239f  \u239c                 \u23a2\u23a2    R     \u23a5\u23a5\u239f  \u239c               \u23a2\u23a2   -R     \u23a5\u23a5\u239f  \u239c   \n",
        "\u2500\u23a5\u23a5\u239f  \u239c                 \u23a2\u23a2\u2500\u2500\u2500\u2500\u2500\u2500\u2500\u2500\u2500\u2500\u23a5\u23a5\u239f  \u239c               \u23a2\u23a2\u2500\u2500\u2500\u2500\u2500\u2500\u2500\u2500\u2500\u2500\u23a5\u23a5\u239f  \u239c   \n",
        "_\u23a5\u23a5\u239f  \u239c                 \u23a2\u23a2  ________\u23a5\u23a5\u239f  \u239c               \u23a2\u23a2  ________\u23a5\u23a5\u239f  \u239c   \n",
        " \u23a5\u23a5\u239f  \u239c                 \u23a2\u23a2\u2572\u2571 -1 + \u2148 \u23a5\u23a5\u239f  \u239c               \u23a2\u23a2\u2572\u2571 -1 + \u2148 \u23a5\u23a5\u239f  \u239c   \n",
        " \u23a5\u23a5\u239f  \u239c                 \u23a2\u23a2          \u23a5\u23a5\u239f  \u239c               \u23a2\u23a2          \u23a5\u23a5\u239f  \u239d   \n",
        " \u23a6\u23a6\u23a0  \u239d                 \u23a3\u23a3    1     \u23a6\u23a6\u23a0  \u239d               \u23a3\u23a3    1     \u23a6\u23a6\u23a0      \n",
        "\n",
        "___        \u23a1\u23a1   ___     \u23a4\u23a4\u239e  \u239b  ___       \u23a1\u23a1   ___     \u23a4\u23a4\u239e\u23a4\n",
        " 2 \u22c5\u2148      \u23a2\u23a2 \u2572\u2571 2 \u22c5\u2148\u22c5R \u23a5\u23a5\u239f  \u239c\u2572\u2571 2 \u22c5\u2148     \u23a2\u23a2-\u2572\u2571 2 \u22c5\u2148\u22c5R \u23a5\u23a5\u239f\u23a5\n",
        "\u2500\u2500\u2500\u2500\u2500\u2500, 1, \u23a2\u23a2 \u2500\u2500\u2500\u2500\u2500\u2500\u2500\u2500\u2500 \u23a5\u23a5\u239f, \u239c\u2500\u2500\u2500\u2500\u2500\u2500\u2500, 1, \u23a2\u23a2\u2500\u2500\u2500\u2500\u2500\u2500\u2500\u2500\u2500\u2500\u2500\u23a5\u23a5\u239f\u23a5\n",
        " R         \u23a2\u23a2     2     \u23a5\u23a5\u239f  \u239c   R        \u23a2\u23a2     2     \u23a5\u23a5\u239f\u23a5\n",
        "           \u23a2\u23a2           \u23a5\u23a5\u239f  \u239c            \u23a2\u23a2           \u23a5\u23a5\u239f\u23a5\n",
        "           \u23a2\u23a2    -1     \u23a5\u23a5\u239f  \u239c            \u23a2\u23a2    -1     \u23a5\u23a5\u239f\u23a5\n",
        "           \u23a2\u23a2           \u23a5\u23a5\u239f  \u239c            \u23a2\u23a2           \u23a5\u23a5\u239f\u23a5\n",
        "           \u23a2\u23a2   ___     \u23a5\u23a5\u239f  \u239c            \u23a2\u23a2   ___     \u23a5\u23a5\u239f\u23a5\n",
        "           \u23a2\u23a2-\u2572\u2571 2 \u22c5\u2148\u22c5R \u23a5\u23a5\u239f  \u239c            \u23a2\u23a2 \u2572\u2571 2 \u22c5\u2148\u22c5R \u23a5\u23a5\u239f\u23a5\n",
        "           \u23a2\u23a2\u2500\u2500\u2500\u2500\u2500\u2500\u2500\u2500\u2500\u2500\u2500\u23a5\u23a5\u239f  \u239c            \u23a2\u23a2 \u2500\u2500\u2500\u2500\u2500\u2500\u2500\u2500\u2500 \u23a5\u23a5\u239f\u23a5\n",
        "           \u23a2\u23a2     2     \u23a5\u23a5\u239f  \u239c            \u23a2\u23a2     2     \u23a5\u23a5\u239f\u23a5\n",
        "           \u23a2\u23a2           \u23a5\u23a5\u239f  \u239c            \u23a2\u23a2           \u23a5\u23a5\u239f\u23a5\n",
        "           \u23a2\u23a2     1     \u23a5\u23a5\u239f  \u239c            \u23a2\u23a2     1     \u23a5\u23a5\u239f\u23a5\n",
        "           \u23a2\u23a2           \u23a5\u23a5\u239f  \u239c            \u23a2\u23a2           \u23a5\u23a5\u239f\u23a5\n",
        "           \u23a2\u23a2   ___     \u23a5\u23a5\u239f  \u239c            \u23a2\u23a2   ___     \u23a5\u23a5\u239f\u23a5\n",
        "           \u23a2\u23a2 \u2572\u2571 2 \u22c5\u2148\u22c5R \u23a5\u23a5\u239f  \u239c            \u23a2\u23a2-\u2572\u2571 2 \u22c5\u2148\u22c5R \u23a5\u23a5\u239f\u23a5\n",
        "           \u23a2\u23a2 \u2500\u2500\u2500\u2500\u2500\u2500\u2500\u2500\u2500 \u23a5\u23a5\u239f  \u239c            \u23a2\u23a2\u2500\u2500\u2500\u2500\u2500\u2500\u2500\u2500\u2500\u2500\u2500\u23a5\u23a5\u239f\u23a5\n",
        "           \u23a2\u23a2     2     \u23a5\u23a5\u239f  \u239c            \u23a2\u23a2     2     \u23a5\u23a5\u239f\u23a5\n",
        "           \u23a2\u23a2           \u23a5\u23a5\u239f  \u239c            \u23a2\u23a2           \u23a5\u23a5\u239f\u23a5\n",
        "           \u23a2\u23a2    -1     \u23a5\u23a5\u239f  \u239c            \u23a2\u23a2    -1     \u23a5\u23a5\u239f\u23a5\n",
        "           \u23a2\u23a2           \u23a5\u23a5\u239f  \u239c            \u23a2\u23a2           \u23a5\u23a5\u239f\u23a5\n",
        "           \u23a2\u23a2   ___     \u23a5\u23a5\u239f  \u239c            \u23a2\u23a2   ___     \u23a5\u23a5\u239f\u23a5\n",
        "           \u23a2\u23a2-\u2572\u2571 2 \u22c5\u2148\u22c5R \u23a5\u23a5\u239f  \u239c            \u23a2\u23a2 \u2572\u2571 2 \u22c5\u2148\u22c5R \u23a5\u23a5\u239f\u23a5\n",
        "           \u23a2\u23a2\u2500\u2500\u2500\u2500\u2500\u2500\u2500\u2500\u2500\u2500\u2500\u23a5\u23a5\u239f  \u239c            \u23a2\u23a2 \u2500\u2500\u2500\u2500\u2500\u2500\u2500\u2500\u2500 \u23a5\u23a5\u239f\u23a5\n",
        "           \u23a2\u23a2     2     \u23a5\u23a5\u239f  \u239c            \u23a2\u23a2     2     \u23a5\u23a5\u239f\u23a5\n",
        "           \u23a2\u23a2           \u23a5\u23a5\u239f  \u239c            \u23a2\u23a2           \u23a5\u23a5\u239f\u23a5\n",
        "           \u23a3\u23a3     1     \u23a6\u23a6\u23a0  \u239d            \u23a3\u23a3     1     \u23a6\u23a6\u23a0\u23a5\n",
        "                                                          \u23a6"
       ]
      }
     ],
     "prompt_number": 12
    },
    {
     "cell_type": "heading",
     "level": 3,
     "metadata": {},
     "source": [
      "Line configuration"
     ]
    },
    {
     "cell_type": "code",
     "collapsed": false,
     "input": [
      "JA2 = JA.subs([(l1,R),(a1,0), (l2,R),(a2,0), (l3,R),(a3,sy.pi*2), (l4,R),(a4,0)])\n",
      "JA2"
     ],
     "language": "python",
     "metadata": {},
     "outputs": [
      {
       "latex": [
        "$$\\left[\\begin{matrix}0 & 0 & 0 & 0 & 0 & 0 & 0 & 0\\\\0 & - \\frac{1}{R} & 0 & \\frac{1}{R} & 0 & 0 & 0 & 0\\\\0 & 0 & 0 & 0 & 0 & 0 & 0 & 0\\\\0 & 0 & 0 & - \\frac{1}{R} & 0 & \\frac{1}{R} & 0 & 0\\\\0 & 0 & 0 & 0 & 0 & 0 & 0 & 0\\\\0 & 0 & 0 & 0 & 0 & - \\frac{1}{R} & 0 & \\frac{1}{R}\\\\0 & 0 & 0 & 0 & 0 & 0 & 0 & 0\\\\0 & \\frac{1}{R} & 0 & 0 & 0 & 0 & 0 & - \\frac{1}{R}\\end{matrix}\\right]$$"
       ],
       "metadata": {},
       "output_type": "pyout",
       "prompt_number": 84,
       "text": [
        "\u23a10   0   0   0   0   0   0   0 \u23a4\n",
        "\u23a2                              \u23a5\n",
        "\u23a2   -1       1                 \u23a5\n",
        "\u23a20  \u2500\u2500\u2500  0   \u2500   0   0   0   0 \u23a5\n",
        "\u23a2    R       R                 \u23a5\n",
        "\u23a2                              \u23a5\n",
        "\u23a20   0   0   0   0   0   0   0 \u23a5\n",
        "\u23a2                              \u23a5\n",
        "\u23a2           -1       1         \u23a5\n",
        "\u23a20   0   0  \u2500\u2500\u2500  0   \u2500   0   0 \u23a5\n",
        "\u23a2            R       R         \u23a5\n",
        "\u23a2                              \u23a5\n",
        "\u23a20   0   0   0   0   0   0   0 \u23a5\n",
        "\u23a2                              \u23a5\n",
        "\u23a2                   -1       1 \u23a5\n",
        "\u23a20   0   0   0   0  \u2500\u2500\u2500  0   \u2500 \u23a5\n",
        "\u23a2                    R       R \u23a5\n",
        "\u23a2                              \u23a5\n",
        "\u23a20   0   0   0   0   0   0   0 \u23a5\n",
        "\u23a2                              \u23a5\n",
        "\u23a2    1                      -1 \u23a5\n",
        "\u23a20   \u2500   0   0   0   0   0  \u2500\u2500\u2500\u23a5\n",
        "\u23a3    R                       R \u23a6"
       ]
      }
     ],
     "prompt_number": 84
    },
    {
     "cell_type": "code",
     "collapsed": false,
     "input": [
      "JA2.eigenvals()"
     ],
     "language": "python",
     "metadata": {},
     "outputs": [
      {
       "latex": [
        "$$\\begin{Bmatrix}0 : 5, & - \\frac{2}{R} : 1, & \\frac{1}{R} \\left(-1 - i\\right) : 1, & \\frac{1}{R} \\left(-1 + i\\right) : 1\\end{Bmatrix}$$"
       ],
       "metadata": {},
       "output_type": "pyout",
       "prompt_number": 86,
       "text": [
        "\u23a7      -2      -1 - \u2148     -1 + \u2148   \u23ab\n",
        "\u23a80: 5, \u2500\u2500\u2500: 1, \u2500\u2500\u2500\u2500\u2500\u2500: 1, \u2500\u2500\u2500\u2500\u2500\u2500: 1\u23ac\n",
        "\u23a9       R        R          R      \u23ad"
       ]
      }
     ],
     "prompt_number": 86
    },
    {
     "cell_type": "markdown",
     "metadata": {},
     "source": [
      "Negative real part, so it's stable"
     ]
    },
    {
     "cell_type": "code",
     "collapsed": false,
     "input": [
      "eig = JA1.eigenvals()"
     ],
     "language": "python",
     "metadata": {},
     "outputs": [],
     "prompt_number": 87
    },
    {
     "cell_type": "code",
     "collapsed": false,
     "input": [
      "eig"
     ],
     "language": "python",
     "metadata": {},
     "outputs": [
      {
       "latex": [
        "$$\\begin{Bmatrix}0 : 2, & - \\frac{1}{R} \\sqrt{-1 - i} : 1, & \\frac{1}{R} \\sqrt{-1 - i} : 1, & - \\frac{1}{R} \\sqrt{-1 + i} : 1, & \\frac{1}{R} \\sqrt{-1 + i} : 1, & - \\frac{\\sqrt{2} i}{R} : 1, & \\frac{\\sqrt{2} i}{R} : 1\\end{Bmatrix}$$"
       ],
       "metadata": {},
       "output_type": "pyout",
       "prompt_number": 88,
       "text": [
        "\u23a7         ________        ________        ________        ________        ___ \n",
        "\u23aa      -\u2572\u2571 -1 - \u2148       \u2572\u2571 -1 - \u2148      -\u2572\u2571 -1 + \u2148       \u2572\u2571 -1 + \u2148      -\u2572\u2571 2 \u22c5\n",
        "\u23a80: 2, \u2500\u2500\u2500\u2500\u2500\u2500\u2500\u2500\u2500\u2500\u2500\u2500: 1, \u2500\u2500\u2500\u2500\u2500\u2500\u2500\u2500\u2500\u2500: 1, \u2500\u2500\u2500\u2500\u2500\u2500\u2500\u2500\u2500\u2500\u2500\u2500: 1, \u2500\u2500\u2500\u2500\u2500\u2500\u2500\u2500\u2500\u2500: 1, \u2500\u2500\u2500\u2500\u2500\u2500\u2500\n",
        "\u23aa           R               R               R               R              R  \n",
        "\u23a9                                                                             \n",
        "\n",
        "         ___     \u23ab\n",
        "\u2148      \u2572\u2571 2 \u22c5\u2148   \u23aa\n",
        "\u2500\u2500: 1, \u2500\u2500\u2500\u2500\u2500\u2500\u2500: 1\u23ac\n",
        "          R      \u23aa\n",
        "                 \u23ad"
       ]
      }
     ],
     "prompt_number": 88
    },
    {
     "cell_type": "code",
     "collapsed": false,
     "input": [
      "type(eig)"
     ],
     "language": "python",
     "metadata": {},
     "outputs": [
      {
       "metadata": {},
       "output_type": "pyout",
       "prompt_number": 89,
       "text": [
        "dict"
       ]
      }
     ],
     "prompt_number": 89
    },
    {
     "cell_type": "code",
     "collapsed": false,
     "input": [
      "len(eig)"
     ],
     "language": "python",
     "metadata": {},
     "outputs": [
      {
       "latex": [
        "$$7$$"
       ],
       "metadata": {},
       "output_type": "pyout",
       "prompt_number": 92,
       "text": [
        "7"
       ]
      }
     ],
     "prompt_number": 92
    },
    {
     "cell_type": "code",
     "collapsed": false,
     "input": [
      "a = eig.items()"
     ],
     "language": "python",
     "metadata": {},
     "outputs": [],
     "prompt_number": 94
    },
    {
     "cell_type": "code",
     "collapsed": false,
     "input": [
      "b = a[0][0]"
     ],
     "language": "python",
     "metadata": {},
     "outputs": [],
     "prompt_number": 103
    },
    {
     "cell_type": "code",
     "collapsed": false,
     "input": [
      "b"
     ],
     "language": "python",
     "metadata": {},
     "outputs": [
      {
       "latex": [
        "$$\\frac{1}{R} \\sqrt{-1 + i}$$"
       ],
       "metadata": {},
       "output_type": "pyout",
       "prompt_number": 108,
       "text": [
        "  ________\n",
        "\u2572\u2571 -1 + \u2148 \n",
        "\u2500\u2500\u2500\u2500\u2500\u2500\u2500\u2500\u2500\u2500\n",
        "    R     "
       ]
      }
     ],
     "prompt_number": 108
    },
    {
     "cell_type": "code",
     "collapsed": false,
     "input": [
      "eig2 = JA1.eigenvects()"
     ],
     "language": "python",
     "metadata": {},
     "outputs": [],
     "prompt_number": 110
    },
    {
     "cell_type": "code",
     "collapsed": false,
     "input": [
      "eig2[6][2][0]"
     ],
     "language": "python",
     "metadata": {},
     "outputs": [
      {
       "latex": [
        "$$\\left[\\begin{matrix}\\frac{i R}{2} \\sqrt{2}\\\\-1\\\\- \\frac{i R}{2} \\sqrt{2}\\\\1\\\\\\frac{i R}{2} \\sqrt{2}\\\\-1\\\\- \\frac{i R}{2} \\sqrt{2}\\\\1\\end{matrix}\\right]$$"
       ],
       "metadata": {},
       "output_type": "pyout",
       "prompt_number": 126,
       "text": [
        "\u23a1   ___     \u23a4\n",
        "\u23a2 \u2572\u2571 2 \u22c5\u2148\u22c5R \u23a5\n",
        "\u23a2 \u2500\u2500\u2500\u2500\u2500\u2500\u2500\u2500\u2500 \u23a5\n",
        "\u23a2     2     \u23a5\n",
        "\u23a2           \u23a5\n",
        "\u23a2    -1     \u23a5\n",
        "\u23a2           \u23a5\n",
        "\u23a2   ___     \u23a5\n",
        "\u23a2-\u2572\u2571 2 \u22c5\u2148\u22c5R \u23a5\n",
        "\u23a2\u2500\u2500\u2500\u2500\u2500\u2500\u2500\u2500\u2500\u2500\u2500\u23a5\n",
        "\u23a2     2     \u23a5\n",
        "\u23a2           \u23a5\n",
        "\u23a2     1     \u23a5\n",
        "\u23a2           \u23a5\n",
        "\u23a2   ___     \u23a5\n",
        "\u23a2 \u2572\u2571 2 \u22c5\u2148\u22c5R \u23a5\n",
        "\u23a2 \u2500\u2500\u2500\u2500\u2500\u2500\u2500\u2500\u2500 \u23a5\n",
        "\u23a2     2     \u23a5\n",
        "\u23a2           \u23a5\n",
        "\u23a2    -1     \u23a5\n",
        "\u23a2           \u23a5\n",
        "\u23a2   ___     \u23a5\n",
        "\u23a2-\u2572\u2571 2 \u22c5\u2148\u22c5R \u23a5\n",
        "\u23a2\u2500\u2500\u2500\u2500\u2500\u2500\u2500\u2500\u2500\u2500\u2500\u23a5\n",
        "\u23a2     2     \u23a5\n",
        "\u23a2           \u23a5\n",
        "\u23a3     1     \u23a6"
       ]
      }
     ],
     "prompt_number": 126
    },
    {
     "cell_type": "code",
     "collapsed": false,
     "input": [],
     "language": "python",
     "metadata": {},
     "outputs": []
    }
   ],
   "metadata": {}
  }
 ]
}