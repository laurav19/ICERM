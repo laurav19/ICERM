{
 "metadata": {
  "name": "",
  "signature": "sha256:e3b8e490fe7547f750d852b5ea9c36ef4fd0db48ac5f743dca6bfc476210d15d"
 },
 "nbformat": 3,
 "nbformat_minor": 0,
 "worksheets": [
  {
   "cells": [
    {
     "cell_type": "heading",
     "level": 2,
     "metadata": {},
     "source": [
      "Any $ \\alpha $"
     ]
    },
    {
     "cell_type": "code",
     "collapsed": false,
     "input": [
      "%pylab inline\n",
      "from plots import *\n",
      "import numpy as np\n",
      "import matplotlib.pyplot as plt\n",
      "from scipy.integrate import odeint"
     ],
     "language": "python",
     "metadata": {},
     "outputs": [
      {
       "output_type": "stream",
       "stream": "stdout",
       "text": [
        "Populating the interactive namespace from numpy and matplotlib\n"
       ]
      }
     ],
     "prompt_number": 2
    },
    {
     "cell_type": "code",
     "collapsed": false,
     "input": [
      "def evasion_03(state,time, alpha):\n",
      "    \n",
      "    n = state.shape[0]/2\n",
      "    state = np.append(state, [state[0], state[1]])\n",
      "    state = state.reshape([n+1,2])\n",
      "    \n",
      "    y = np.array([])\n",
      "    \n",
      "    for i in xrange (0,n):\n",
      "        g = (state[i]-state[i+1])/np.linalg.norm(state[i]-state[i+1])\n",
      "        \n",
      "        g = car2pol(g)\n",
      "        g[1] = g[1] - pi + alpha\n",
      "        g = pol2car(g)\n",
      "        y = np.append(y,g)\n",
      "    \n",
      "    return y"
     ],
     "language": "python",
     "metadata": {},
     "outputs": [],
     "prompt_number": 280
    },
    {
     "cell_type": "code",
     "collapsed": false,
     "input": [
      "def car2pol(coor):\n",
      "    \"\"\"\n",
      "    Returns polar coordinates [r, theta]\n",
      "    \"\"\"\n",
      "    r = sqrt(coor[0]**2 + coor[1]**2)\n",
      "    theta = np.arctan2(coor[1], coor[0])\n",
      "    return [r,theta]\n",
      "\n",
      "def pol2car(coor):\n",
      "    \"\"\"\n",
      "    Returns cartesian coordinates [x, y]\n",
      "    \"\"\"\n",
      "    x = coor[0] * np.cos(coor[1])\n",
      "    y = coor[0] * np.sin(coor[1])\n",
      "    return [x,y]"
     ],
     "language": "python",
     "metadata": {},
     "outputs": [],
     "prompt_number": 281
    },
    {
     "cell_type": "code",
     "collapsed": false,
     "input": [
      "steps = 10000\n",
      "time_limit = 1e0\n",
      "time = np.linspace(0,time_limit,steps)"
     ],
     "language": "python",
     "metadata": {},
     "outputs": [],
     "prompt_number": 282
    },
    {
     "cell_type": "code",
     "collapsed": false,
     "input": [
      "n = 4\n",
      "alpha = pi/3"
     ],
     "language": "python",
     "metadata": {},
     "outputs": [],
     "prompt_number": 283
    },
    {
     "cell_type": "code",
     "collapsed": false,
     "input": [
      "y_01 = np.zeros((n,2))\n",
      "y_01[0]=[0,0]\n",
      "y_01[1]=[0,1]\n",
      "y_01[2]=[1,2]\n",
      "y_01[3]=[1,1]\n",
      "\n",
      "plot_polygon(y_01)"
     ],
     "language": "python",
     "metadata": {},
     "outputs": [
      {
       "metadata": {},
       "output_type": "display_data",
       "png": "[encoded data removed]",
       "text": [
        "<matplotlib.figure.Figure at 0x7f03e85a0bd0>"
       ]
      }
     ],
     "prompt_number": 284
    },
    {
     "cell_type": "code",
     "collapsed": false,
     "input": [
      "solution = odeint(func=evasion_03, y0 = y_01.reshape([2*n]), t = time, args=(alpha,))\n",
      "solution = solution.reshape((steps,n,2))"
     ],
     "language": "python",
     "metadata": {},
     "outputs": [],
     "prompt_number": 285
    },
    {
     "cell_type": "code",
     "collapsed": false,
     "input": [
      "plot_solution(solution)"
     ],
     "language": "python",
     "metadata": {},
     "outputs": [
      {
       "metadata": {},
       "output_type": "display_data",
       "png": "[encoded data removed]",
       "text": [
        "<matplotlib.figure.Figure at 0x7f03e8559410>"
       ]
      }
     ],
     "prompt_number": 286
    },
    {
     "cell_type": "code",
     "collapsed": false,
     "input": [
      "p1 = solution[0,1,:]\n",
      "p2 = solution[1,1,:]\n",
      "p3 = solution[0,2,:]"
     ],
     "language": "python",
     "metadata": {},
     "outputs": [],
     "prompt_number": 287
    },
    {
     "cell_type": "code",
     "collapsed": false,
     "input": [
      "a = np.linalg.norm(p2-p1)\n",
      "b = np.linalg.norm(p3-p1)\n",
      "c = np.linalg.norm(p2-p3)"
     ],
     "language": "python",
     "metadata": {},
     "outputs": [],
     "prompt_number": 288
    },
    {
     "cell_type": "code",
     "collapsed": false,
     "input": [
      "alp = np.arccos((a**2 + b**2 - c**2)/(2*a*b))\n",
      "print alp\n",
      "alpha"
     ],
     "language": "python",
     "metadata": {},
     "outputs": [
      {
       "output_type": "stream",
       "stream": "stdout",
       "text": [
        "1.04713277517\n"
       ]
      },
      {
       "metadata": {},
       "output_type": "pyout",
       "prompt_number": 289,
       "text": [
        "1.0471975511965976"
       ]
      }
     ],
     "prompt_number": 289
    },
    {
     "cell_type": "code",
     "collapsed": false,
     "input": [],
     "language": "python",
     "metadata": {},
     "outputs": []
    }
   ],
   "metadata": {}
  }
 ]
}